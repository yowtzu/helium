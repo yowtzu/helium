{
 "cells": [
  {
   "cell_type": "code",
   "execution_count": 1,
   "metadata": {},
   "outputs": [],
   "source": [
    "import os\n",
    "import sys\n",
    "sys.path.insert(0, os.path.abspath('..'))"
   ]
  },
  {
   "cell_type": "code",
   "execution_count": 2,
   "metadata": {
    "scrolled": true
   },
   "outputs": [
    {
     "name": "stderr",
     "output_type": "stream",
     "text": [
      "/home/yowtzu/anaconda/envs/cvxportfolio/lib/python3.6/site-packages/ipykernel_launcher.py:19: DeprecationWarning: \n",
      ".ix is deprecated. Please use\n",
      ".loc for label based indexing or\n",
      ".iloc for positional indexing\n",
      "\n",
      "See the documentation here:\n",
      "http://pandas.pydata.org/pandas-docs/stable/indexing.html#ix-indexer-is-deprecated\n",
      "/home/yowtzu/anaconda/envs/cvxportfolio/lib/python3.6/site-packages/ipykernel_launcher.py:20: DeprecationWarning: \n",
      ".ix is deprecated. Please use\n",
      ".loc for label based indexing or\n",
      ".iloc for positional indexing\n",
      "\n",
      "See the documentation here:\n",
      "http://pandas.pydata.org/pandas-docs/stable/indexing.html#ix-indexer-is-deprecated\n",
      "/home/yowtzu/anaconda/envs/cvxportfolio/lib/python3.6/site-packages/ipykernel_launcher.py:21: DeprecationWarning: \n",
      ".ix is deprecated. Please use\n",
      ".loc for label based indexing or\n",
      ".iloc for positional indexing\n",
      "\n",
      "See the documentation here:\n",
      "http://pandas.pydata.org/pandas-docs/stable/indexing.html#ix-indexer-is-deprecated\n"
     ]
    }
   ],
   "source": [
    "%load_ext autoreload\n",
    "%autoreload 2\n",
    "%matplotlib inline\n",
    "\n",
    "import pandas as pd\n",
    "import numpy as np\n",
    "import matplotlib.pyplot as plt\n",
    "import helium\n",
    "\n",
    "plotdir = '../../cvxportfolio/portfolio/plots/'\n",
    "datadir='../../cvxportfolio/data/'\n",
    "\n",
    "sigmas=pd.read_csv(datadir+'sigmas.csv.gz',index_col=0,parse_dates=[0]).iloc[:,:-1]\n",
    "returns=pd.read_csv(datadir+'returns.csv.gz',index_col=0,parse_dates=[0])\n",
    "volumes=pd.read_csv(datadir+'volumes.csv.gz',index_col=0,parse_dates=[0]).iloc[:,:-1]\n",
    "\n",
    "#, 'NKE', 'IBM', 'BAC', 'C'\n",
    "subset_tickers = ['AMZN', 'GOOGL', 'BAC', 'USDOLLAR']\n",
    "sigmas = sigmas.ix[:, sigmas.columns.isin(subset_tickers)]\n",
    "returns = returns.ix[:, returns.columns.isin(subset_tickers)]\n",
    "volumes = volumes.ix[:, volumes.columns.isin(subset_tickers)]\n",
    "\n",
    "start_date=\"2012-02-01\"\n",
    "end_date=\"2016-12-31\""
   ]
  },
  {
   "cell_type": "code",
   "execution_count": 3,
   "metadata": {},
   "outputs": [],
   "source": [
    "cash_ticker = \"_CASH\""
   ]
  },
  {
   "cell_type": "code",
   "execution_count": 4,
   "metadata": {},
   "outputs": [],
   "source": [
    "sigmas[cash_ticker] = 0.\n",
    "returns = returns.rename(columns={\"USDOLLAR\": cash_ticker})\n",
    "volumes[cash_ticker] = np.finfo(np.float).max"
   ]
  },
  {
   "cell_type": "code",
   "execution_count": 5,
   "metadata": {},
   "outputs": [],
   "source": [
    "w_b = pd.Series(index=returns.columns, data=1)\n",
    "w_b._CASH = 0.\n",
    "w_b/=sum(w_b)\n"
   ]
  },
  {
   "cell_type": "code",
   "execution_count": 6,
   "metadata": {},
   "outputs": [
    {
     "name": "stderr",
     "output_type": "stream",
     "text": [
      "/home/yowtzu/anaconda/envs/cvxportfolio/lib/python3.6/site-packages/ipykernel_launcher.py:5: DeprecationWarning: \n",
      ".ix is deprecated. Please use\n",
      ".loc for label based indexing or\n",
      ".iloc for positional indexing\n",
      "\n",
      "See the documentation here:\n",
      "http://pandas.pydata.org/pandas-docs/stable/indexing.html#ix-indexer-is-deprecated\n",
      "  \"\"\"\n",
      "/home/yowtzu/anaconda/envs/cvxportfolio/lib/python3.6/site-packages/ipykernel_launcher.py:6: DeprecationWarning: \n",
      ".ix is deprecated. Please use\n",
      ".loc for label based indexing or\n",
      ".iloc for positional indexing\n",
      "\n",
      "See the documentation here:\n",
      "http://pandas.pydata.org/pandas-docs/stable/indexing.html#ix-indexer-is-deprecated\n",
      "  \n",
      "/home/yowtzu/anaconda/envs/cvxportfolio/lib/python3.6/site-packages/ipykernel_launcher.py:7: DeprecationWarning: \n",
      ".ix is deprecated. Please use\n",
      ".loc for label based indexing or\n",
      ".iloc for positional indexing\n",
      "\n",
      "See the documentation here:\n",
      "http://pandas.pydata.org/pandas-docs/stable/indexing.html#ix-indexer-is-deprecated\n",
      "  import sys\n"
     ]
    }
   ],
   "source": [
    "return_estimate=pd.read_csv(datadir+'return_estimate.csv.gz',index_col=0,parse_dates=[0]).dropna()\n",
    "volume_estimate=pd.read_csv(datadir+'volume_estimate.csv.gz',index_col=0,parse_dates=[0]).iloc[:,:-1].dropna()\n",
    "sigma_estimate=pd.read_csv(datadir+'sigma_estimate.csv.gz',index_col=0,parse_dates=[0]).iloc[:,:-1].dropna()\n",
    "\n",
    "return_estimate = return_estimate.ix[:, return_estimate.columns.isin(subset_tickers)]\n",
    "volume_estimate = volume_estimate.ix[:, volume_estimate.columns.isin(subset_tickers)]\n",
    "sigma_estimate = sigma_estimate.ix[:, sigma_estimate.columns.isin(subset_tickers)]"
   ]
  },
  {
   "cell_type": "code",
   "execution_count": 7,
   "metadata": {},
   "outputs": [],
   "source": [
    "sigma_estimate[cash_ticker] = 0.\n",
    "return_estimate = return_estimate.rename(columns={\"USDOLLAR\": cash_ticker})\n",
    "volume_estimate[cash_ticker] = np.finfo(np.float).max"
   ]
  },
  {
   "cell_type": "code",
   "execution_count": 8,
   "metadata": {},
   "outputs": [],
   "source": [
    "borrow_costs = returns.copy()\n",
    "borrow_costs[:] = 1E-4\n",
    "borrow_costs[cash_ticker] = 0.\n",
    "\n",
    "dividends = returns.copy()\n",
    "dividends[:] = 0.\n",
    "\n",
    "simulated_hcost=helium.HoldingCost(gamma = 1., borrow_costs=borrow_costs, dividends=dividends)\n",
    "simulated_tcost=helium.TransactionCost(gamma =1.0, \n",
    "                                             half_spread=0.0005/2,\n",
    "                                             nonlin_coef = 1.,\n",
    "                                             sigmas = sigmas, \n",
    "                                             nonlin_power = 1.5,\n",
    "                                             volumes = volumes,\n",
    "                                             asym_coef = 0.)\n",
    "\n",
    "simulator = helium.MarketSimulator(returns, volumes, costs=[\n",
    "    simulated_tcost, \n",
    "    simulated_hcost\n",
    "], cash_ticker=cash_ticker)"
   ]
  },
  {
   "cell_type": "code",
   "execution_count": 9,
   "metadata": {},
   "outputs": [],
   "source": [
    "r_est_dict = {}\n",
    "d_est_dict = {}\n",
    "for day, series in return_estimate.iterrows():\n",
    "    r_est_dict[day] = return_estimate.loc[[day]].copy()\n",
    "    deltas = return_estimate.loc[[day]].copy()\n",
    "    deltas[:] = 0.\n",
    "    d_est_dict[day] = deltas"
   ]
  },
  {
   "cell_type": "code",
   "execution_count": 10,
   "metadata": {},
   "outputs": [],
   "source": [
    "r= helium.DefaultRet(r_est_dict,  d_est_dict , gamma_decay=None)\n",
    "\n",
    "#Sigma_hat = returns.rolling(window=250, min_periods=250).cov().unstack().shift(1).stack().dropna()"
   ]
  },
  {
   "cell_type": "code",
   "execution_count": 11,
   "metadata": {},
   "outputs": [],
   "source": [
    "Sigma_hat = returns.rolling(window=250, min_periods=250).cov().unstack().shift(1).stack().dropna()"
   ]
  },
  {
   "cell_type": "code",
   "execution_count": 14,
   "metadata": {},
   "outputs": [
    {
     "name": "stdout",
     "output_type": "stream",
     "text": [
      "0.1 1.0\n",
      "0.1 2.0\n",
      "0.3 1.0\n",
      "0.3 2.0\n",
      "1 1.0\n",
      "1 2.0\n",
      "3 1.0\n",
      "3 2.0\n",
      "10 1.0\n",
      "10 2.0\n"
     ]
    }
   ],
   "source": [
    "policies = {}\n",
    "results = {}\n",
    "gamma_risks_coarse=[.1,.3,1, 3,10]#,30,100,300,1000]\n",
    "gamma_tcosts_coarse=[1., 2.]#, 5,10,20]\n",
    "for gamma_risk in gamma_risks_coarse:\n",
    "    for gamma_tcost in gamma_tcosts_coarse: \n",
    "        print(gamma_risk, gamma_tcost)\n",
    "        risk_model = helium.BasicRiskCost(gamma_risk, Sigma_hat)\n",
    "        optimization_hcost = helium.HoldingCost(gamma = 1., borrow_costs=borrow_costs, dividends=dividends)\n",
    "        optimization_tcost = helium.TransactionCost(gamma_tcost, \n",
    "                                                    half_spread=0.0005/2., \n",
    "                                                    nonlin_coef = 1.,\n",
    "                                                    sigmas = sigma_estimate, \n",
    "                                                    nonlin_power = 1.5,\n",
    "                                                    volumes = volume_estimate,\n",
    "                                                    asym_coef = 0.)\n",
    "        \n",
    "        # issue optimization_tcost\n",
    "        costs = [\n",
    "            risk_model, \n",
    "                 optimization_tcost, \n",
    "                 optimization_hcost\n",
    "                ]\n",
    "        const = [helium.LeverageLimitConstraint(3)]\n",
    "        policies[(gamma_risk, gamma_tcost)] = helium.SinglePeriodOpt(r, costs, const)\n",
    "        results[(gamma_risk, gamma_tcost)] = simulator.run(1E8*w_b, \n",
    "                                                         policies[(gamma_risk, gamma_tcost)],\n",
    "                                                         start_date, \n",
    "                                                         end_date)"
   ]
  },
  {
   "cell_type": "code",
   "execution_count": 16,
   "metadata": {},
   "outputs": [],
   "source": [
    "result_df_coarse=pd.DataFrame()\n",
    "for k in results:\n",
    "    if k[0] in gamma_risks_coarse and k[1] in gamma_tcosts_coarse:\n",
    "        result_df_coarse.loc[k[0], k[1]] = results[k]\n",
    "        \n",
    "result_df = result_df_coarse.loc[sorted(result_df_coarse.index), sorted(result_df_coarse.columns)]"
   ]
  },
  {
   "cell_type": "code",
   "execution_count": 50,
   "metadata": {},
   "outputs": [
    {
     "name": "stdout",
     "output_type": "stream",
     "text": [
      "[39.005068671695774, 38.04545423987056, 34.61200235575122, 29.033956738505502, 20.92542555935635] [14.808550283419496, 13.983722261898672, 10.585309629002237, 8.593923509946984, 7.52287937216698]\n",
      "[36.396270875163374, 35.214305581805164, 30.829464875156244, 23.524054025778376, 13.024543885318623] [29.118486652301556, 26.506968041664962, 22.019391667091043, 16.092738646322495, 12.30175455974774]\n"
     ]
    },
    {
     "data": {
      "image/png": "[encoded data removed]",
      "text/plain": [
       "<Figure size 576x360 with 1 Axes>"
      ]
     },
     "metadata": {},
     "output_type": "display_data"
    }
   ],
   "source": [
    "plt.figure(figsize=(8,5))\n",
    "for gamma_tcost in result_df.columns:\n",
    "    x=[el.excess_returns.std()*100*np.sqrt(250) for el in result_df[gamma_tcost]]\n",
    "    y=[el.excess_returns.mean()*100*250 for el in result_df[gamma_tcost]]\n",
    "    print(x,y)\n",
    "    plt.plot(np.array(x),np.array(y), '.-', label='$\\gamma^\\mathrm{trade} = %g$'%gamma_tcost)\n",
    "plt.legend(loc='lower right')\n",
    "plt.xlabel('Risk')\n",
    "plt.ylabel('Return')\n",
    "plt.xlim([0,50])\n",
    "plt.ylim([-5,30])\n",
    "\n",
    "\n",
    "import matplotlib.ticker as mtick\n",
    "ax = plt.gca()\n",
    "ax.xaxis.set_major_formatter(mtick.FormatStrFormatter('%.0f%%'))\n",
    "ax.yaxis.set_major_formatter(mtick.FormatStrFormatter('%.0f%%'))\n",
    "\n",
    "#plt.savefig(plotdir+'spo_riskrewardfrontier.png')"
   ]
  },
  {
   "cell_type": "code",
   "execution_count": 16,
   "metadata": {
    "scrolled": false
   },
   "outputs": [
    {
     "name": "stdout",
     "output_type": "stream",
     "text": [
      "[39.005068671695774, 38.04545423987056, 34.61200235575122, 29.033956738505502, 20.92542555935635, 11.137607903755685, 4.3423181586511586, 1.668687675653875, 0.5540503517273325] [14.808550283419496, 13.983722261898672, 10.585309629002237, 8.593923509946984, 7.52287937216698, 6.8391260944758026, 4.0134114610309295, 1.9552581333373587, 0.7176887289374069]\n",
      "[36.396270875163374, 35.214305581805164, 30.829464875156244, 23.524054025778376, 13.024543885318623, 6.801001841556821, 3.113023311771244, 1.3496602930492916, 0.4890952368794945] [29.118486652301556, 26.506968041664962, 22.019391667091043, 16.092738646322495, 12.30175455974774, 7.825501967805095, 3.876358793755058, 1.7775514325420878, 0.65500054508405]\n",
      "[36.47548970829659, 31.999256802020394, 20.411234021092017, 10.936237870305424, 6.033574288134635, 3.4604260349107707, 1.642307088873636, 0.7898477189393028, 0.3446121116516065] [33.84990276813219, 25.289391766536323, 10.845198046718462, 6.77836332361244, 4.664100465913707, 3.2097908882386625, 2.0981309301928177, 1.1048619271413957, 0.45490484781830653]\n",
      "[21.438829708025406, 19.620024025257237, 14.750935064240961, 8.767645693959686, 4.1282558526283895, 1.9408455250056884, 1.005478183098501, 0.5315570759098882, 0.2527052638073532] [25.552653154207416, 23.09825579285775, 16.149977269004776, 6.562731953817536, 1.8621492541503253, 0.9610076973034716, 0.3597912336423629, 0.29103543729926235, 0.1714069189731023]\n",
      "[20.783167461984434, 20.63861286649866, 20.126474867457766, 18.447225129623245, 10.8099110291943, 3.6060184408258182, 1.0996510767042018, 0.5101060137185177, 0.24687484266435056] [26.10432191216614, 25.921611051815685, 25.272615314966984, 23.113701096132125, 12.924470029312934, 2.832753718609096, 0.05159689521969536, -0.12459346693406675, -0.07473438370006913]\n"
     ]
    },
    {
     "data": {
      "image/png": "[encoded data removed]",
      "text/plain": [
       "<Figure size 576x360 with 1 Axes>"
      ]
     },
     "metadata": {},
     "output_type": "display_data"
    }
   ],
   "source": [
    "plt.figure(figsize=(8,5))\n",
    "for gamma_tcost in result_df.columns:\n",
    "    x=[el.excess_returns.std()*100*np.sqrt(250) for el in result_df[gamma_tcost]]\n",
    "    y=[el.excess_returns.mean()*100*250 for el in result_df[gamma_tcost]]\n",
    "    print(x,y)\n",
    "    plt.plot(np.array(x),np.array(y), '.-', label='$\\gamma^\\mathrm{trade} = %g$'%gamma_tcost)\n",
    "plt.legend(loc='lower right')\n",
    "plt.xlabel('Risk')\n",
    "plt.ylabel('Return')\n",
    "plt.xlim([0,50])\n",
    "plt.ylim([-5,30])\n",
    "\n",
    "\n",
    "import matplotlib.ticker as mtick\n",
    "ax = plt.gca()\n",
    "ax.xaxis.set_major_formatter(mtick.FormatStrFormatter('%.0f%%'))\n",
    "ax.yaxis.set_major_formatter(mtick.FormatStrFormatter('%.0f%%'))\n",
    "\n",
    "#plt.savefig(plotdir+'spo_riskrewardfrontier.png')"
   ]
  },
  {
   "cell_type": "markdown",
   "metadata": {},
   "source": [
    "### Fine Search"
   ]
  },
  {
   "cell_type": "code",
   "execution_count": null,
   "metadata": {},
   "outputs": [],
   "source": [
    "policies = {}\n",
    "results = {}\n",
    "gamma_risks_fine=gamma_risks_coarse\n",
    "gamma_tcosts_fine=[4,5,6,7,8]\n",
    "for gamma_risk in gamma_risks_fine:\n",
    "    for gamma_tcost in gamma_tcosts_fine: \n",
    "        risk_model = helium.BasicRiskCost(gamma_risk, Sigma_hat)\n",
    "        optimization_hcost = helium.HoldingCost(gamma = 1., borrow_costs=borrow_costs, dividends=dividends)\n",
    "        optimization_tcost = helium.TransactionCost(gamma_tcost, \n",
    "                                                    half_spread=0.0005/2., \n",
    "                                                    nonlin_coef = 1.,\n",
    "                                                    sigmas = sigma_estimate, \n",
    "                                                    nonlin_power = 1.5,\n",
    "                                                    volumes = volume_estimate,\n",
    "                                                    asym_coef = 0.)\n",
    "        \n",
    "        # issue optimization_tcost\n",
    "        costs = [\n",
    "            risk_model, \n",
    "                 optimization_tcost, \n",
    "                 optimization_hcost\n",
    "                ]\n",
    "        const = [helium.LeverageLimitConstraint(3)]\n",
    "        policies[(gamma_risk, gamma_tcost)] = helium.SinglePeriodOpt(r, costs, const)\n",
    "        results[(gamma_risk, gamma_tcost)] = simulator.run(1E8*w_b, \n",
    "                                                         policies[(gamma_risk, gamma_tcost)],\n",
    "                                                         start_date, \n",
    "                                                         end_date)"
   ]
  },
  {
   "cell_type": "code",
   "execution_count": null,
   "metadata": {},
   "outputs": [],
   "source": [
    "result_df_fine=pd.DataFrame()\n",
    "for k in results:\n",
    "    if k[0] in gamma_risks_fine and k[1] in list(gamma_tcosts_fine):\n",
    "        result_df_fine.loc[k[0], k[1]] = results[k]\n",
    "        \n",
    "result_df_fine=result_df_fine.loc[sorted(result_df_fine.index),sorted(result_df_fine.columns)]"
   ]
  },
  {
   "cell_type": "code",
   "execution_count": null,
   "metadata": {
    "scrolled": true
   },
   "outputs": [],
   "source": [
    "plt.figure(figsize=(8,5))\n",
    "for gamma_tcost in result_df_fine.columns[:]:\n",
    "    x=[el.excess_returns.std()*100*np.sqrt(250) for el in result_df_fine[gamma_tcost]]\n",
    "    y=[el.excess_returns.mean()*100*250 for el in result_df_fine[gamma_tcost]]\n",
    "    print(x,y)\n",
    "    plt.plot(np.array(x),np.array(y), '.-', label='$\\gamma^\\mathrm{trade} = %g$'%gamma_tcost)\n",
    "plt.legend(loc='lower right')\n",
    "plt.xlabel('Risk')\n",
    "plt.ylabel('Return')\n",
    "plt.xlim([0,20])\n",
    "plt.ylim([0,30])\n",
    "\n",
    "\n",
    "import matplotlib.ticker as mtick\n",
    "ax = plt.gca()\n",
    "ax.xaxis.set_major_formatter(mtick.FormatStrFormatter('%.0f%%'))\n",
    "ax.yaxis.set_major_formatter(mtick.FormatStrFormatter('%.0f%%'))\n",
    "\n",
    "#plt.savefig(plotdir+'spo_riskrewardfrontier_fine.png')"
   ]
  },
  {
   "cell_type": "markdown",
   "metadata": {},
   "source": [
    "### Pareto"
   ]
  },
  {
   "cell_type": "code",
   "execution_count": null,
   "metadata": {},
   "outputs": [],
   "source": [
    "results_pareto={}"
   ]
  },
  {
   "cell_type": "code",
   "execution_count": null,
   "metadata": {},
   "outputs": [],
   "source": [
    "policies = {}\n",
    "#results = {}\n",
    "gamma_risks_pareto=[0.1, 0.17782, 0.31624, 0.562, 1.0, 2, 3, 6, 10, 18, 32, 56, 100, 178, 316, 562, 1000]\n",
    "gamma_tcosts_pareto=[5.5,6,6.5,7,7.5,8]\n",
    "gamma_holdings=[.1,1.,10.,100.]\n",
    "for gamma_risk in gamma_risks_pareto:\n",
    "    for gamma_tcost in gamma_tcosts_pareto : \n",
    "        for gamma_holding in gamma_holdings:\n",
    "            risk_model = helium.BasicRiskCost(gamma_risk, Sigma_hat)\n",
    "            optimization_hcost = helium.HoldingCost(gamma_holding , borrow_costs=borrow_costs, dividends=dividends)\n",
    "            optimization_tcost = helium.TransactionCost(gamma_tcost, \n",
    "                                                    half_spread=0.0005/2., \n",
    "                                                    nonlin_coef = 1.,\n",
    "                                                    sigmas = sigma_estimate, \n",
    "                                                    nonlin_power = 1.5,\n",
    "                                                    volumes = volume_estimate,\n",
    "                                                    asym_coef = 0.)\n",
    "        \n",
    "            # issue optimization_tcost\n",
    "\n",
    "            costs = [risk_model,    optimization_tcost,                  optimization_hcost  ]\n",
    "            const = [helium.LeverageLimitConstraint(3)]\n",
    "            policies[(gamma_risk, gamma_tcost, gamma_holding)] = helium.SinglePeriodOpt(r, costs, const)\n",
    "            results_pareto[(gamma_risk, gamma_tcost, gamma_holding)] = simulator.run(1E8*w_b, \n",
    "                                                         policies[(gamma_risk, gamma_tcost, gamma_holding)],\n",
    "                                                         start_date, \n",
    "                                                         end_date)"
   ]
  },
  {
   "cell_type": "code",
   "execution_count": null,
   "metadata": {},
   "outputs": [],
   "source": [
    "len(results_pareto)"
   ]
  },
  {
   "cell_type": "code",
   "execution_count": null,
   "metadata": {},
   "outputs": [],
   "source": [
    "table=pd.DataFrame()\n",
    "table[r'$\\gamma^\\mathrm{risk}$']=[el[0] for el in results_pareto.keys()]\n",
    "table[r'$\\gamma^\\mathrm{trade}$']=[el[1] for el in results_pareto.keys()]\n",
    "table[r'$\\gamma^\\mathrm{hold}$']=['%g'%el[2] for el in results_pareto.keys()]\n",
    "table['Return']=[(results_pareto[k].excess_returns.mean()*100*250) for k in results_pareto.keys()]\n",
    "table['Risk']=[(results_pareto[k].excess_returns.std()*100*np.sqrt(250)) for k in results_pareto.keys()]\n",
    "table = table.sort_values('Risk', ascending=False).reset_index()\n",
    "del table['index']\n",
    "is_pareto = lambda i: table.loc[i,'Return']>=max(table.ix[i:].Return)\n",
    "table['is_pareto'] = [is_pareto(i) for i in range(len(table))]\n",
    "#table.to_csv(datadir+'spo_pareto_results.csv', float_format='%g')"
   ]
  },
  {
   "cell_type": "code",
   "execution_count": null,
   "metadata": {},
   "outputs": [],
   "source": [
    "plt.figure(figsize=(8,5))\n",
    "plt.scatter(table.Risk.values,table.Return.values)\n",
    "plt.plot(table[table.is_pareto].Risk,table[table.is_pareto].Return, 'C1.-', label='Pareto optimal frontier')\n",
    "plt.legend( loc='lower right')\n",
    "plt.xlabel('Risk')\n",
    "plt.ylabel('Return')\n",
    "plt.xlim([0,20])\n",
    "plt.ylim([0,30])\n",
    "\n",
    "import matplotlib.ticker as mtick\n",
    "ax = plt.gca()\n",
    "ax.xaxis.set_major_formatter(mtick.FormatStrFormatter('%.0f%%'))\n",
    "ax.yaxis.set_major_formatter(mtick.FormatStrFormatter('%.0f%%'))\n",
    "\n",
    "#plt.savefig(plotdir+'spo_pareto.png')"
   ]
  },
  {
   "cell_type": "code",
   "execution_count": null,
   "metadata": {},
   "outputs": [],
   "source": [
    "xlim=20\n",
    "ylim=30\n",
    "table=table[table.is_pareto]\n",
    "table=table[table.Risk <= xlim]\n",
    "table=table[table.Return <= ylim]\n",
    "del table['is_pareto']\n",
    "table.Risk=table.Risk.apply(lambda x: '%.2f%%'%x)\n",
    "table.Return=table.Return.apply(lambda x: '%.2f%%'%x)\n",
    "print(table.iloc[::-1].to_latex(float_format='%.2f', escape=False, index=False).replace('%',r'\\%'))"
   ]
  },
  {
   "cell_type": "code",
   "execution_count": null,
   "metadata": {},
   "outputs": [],
   "source": [
    "table.tail(50)"
   ]
  }
 ],
 "metadata": {
  "kernelspec": {
   "display_name": "Python 3",
   "language": "python",
   "name": "python3"
  },
  "language_info": {
   "codemirror_mode": {
    "name": "ipython",
    "version": 3
   },
   "file_extension": ".py",
   "mimetype": "text/x-python",
   "name": "python",
   "nbconvert_exporter": "python",
   "pygments_lexer": "ipython3",
   "version": "3.6.5"
  }
 },
 "nbformat": 4,
 "nbformat_minor": 2
}
