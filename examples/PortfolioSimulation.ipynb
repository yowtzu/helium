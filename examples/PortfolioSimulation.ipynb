{
 "cells": [
  {
   "cell_type": "code",
   "execution_count": 1,
   "metadata": {},
   "outputs": [],
   "source": [
    "import os\n",
    "import sys\n",
    "sys.path.insert(0, os.path.abspath('..'))"
   ]
  },
  {
   "cell_type": "code",
   "execution_count": 2,
   "metadata": {},
   "outputs": [],
   "source": [
    "%load_ext autoreload\n",
    "%autoreload 2\n",
    "%matplotlib inline\n",
    "\n",
    "import pandas as pd\n",
    "import numpy as np\n",
    "import matplotlib.pyplot as plt\n",
    "import helium\n",
    "\n",
    "plotdir = '../../cvxportfolio/portfolio/plots/'\n",
    "datadir='../../cvxportfolio/data/'\n",
    "\n",
    "sigmas=pd.read_csv(datadir+'sigmas.csv.gz',index_col=0,parse_dates=[0]).iloc[:,:-1]\n",
    "returns=pd.read_csv(datadir+'returns.csv.gz',index_col=0,parse_dates=[0])\n",
    "volumes=pd.read_csv(datadir+'volumes.csv.gz',index_col=0,parse_dates=[0]).iloc[:,:-1]\n",
    "\n",
    "start_t=\"2012-01-01\"\n",
    "end_t=\"2016-12-31\""
   ]
  },
  {
   "cell_type": "code",
   "execution_count": 3,
   "metadata": {},
   "outputs": [
    {
     "name": "stderr",
     "output_type": "stream",
     "text": [
      "C:\\Anaconda3\\lib\\site-packages\\ipykernel_launcher.py:2: DeprecationWarning: \n",
      ".ix is deprecated. Please use\n",
      ".loc for label based indexing or\n",
      ".iloc for positional indexing\n",
      "\n",
      "See the documentation here:\n",
      "http://pandas.pydata.org/pandas-docs/stable/indexing.html#ix-indexer-is-deprecated\n",
      "  \n",
      "C:\\Anaconda3\\lib\\site-packages\\ipykernel_launcher.py:3: DeprecationWarning: \n",
      ".ix is deprecated. Please use\n",
      ".loc for label based indexing or\n",
      ".iloc for positional indexing\n",
      "\n",
      "See the documentation here:\n",
      "http://pandas.pydata.org/pandas-docs/stable/indexing.html#ix-indexer-is-deprecated\n",
      "  This is separate from the ipykernel package so we can avoid doing imports until\n",
      "C:\\Anaconda3\\lib\\site-packages\\ipykernel_launcher.py:4: DeprecationWarning: \n",
      ".ix is deprecated. Please use\n",
      ".loc for label based indexing or\n",
      ".iloc for positional indexing\n",
      "\n",
      "See the documentation here:\n",
      "http://pandas.pydata.org/pandas-docs/stable/indexing.html#ix-indexer-is-deprecated\n",
      "  after removing the cwd from sys.path.\n"
     ]
    }
   ],
   "source": [
    "subset_tickers = ['AMZN', 'GOOGL', 'TSLA', 'NKE', 'IBM', 'BAC', 'C', \"GS\", \"IBM\", \"BA\", \"V\", \"JPM\", \"XOM\", 'USDOLLAR']\n",
    "sigmas = sigmas.ix[:, sigmas.columns.isin(subset_tickers)]\n",
    "returns = returns.ix[:, returns.columns.isin(subset_tickers)]\n",
    "volumes = volumes.ix[:, volumes.columns.isin(subset_tickers)]"
   ]
  },
  {
   "cell_type": "code",
   "execution_count": 4,
   "metadata": {},
   "outputs": [],
   "source": [
    "indices = returns.columns.intersection(sigmas.columns).intersection(volumes.columns)"
   ]
  },
  {
   "cell_type": "code",
   "execution_count": 5,
   "metadata": {},
   "outputs": [],
   "source": [
    "cash_ticker = \"_CASH\""
   ]
  },
  {
   "cell_type": "code",
   "execution_count": 6,
   "metadata": {},
   "outputs": [],
   "source": [
    "w_b = pd.Series(index=indices, data=1)\n",
    "w_b[cash_ticker] = 0.\n",
    "w_b/=sum(w_b)"
   ]
  },
  {
   "cell_type": "code",
   "execution_count": 7,
   "metadata": {},
   "outputs": [],
   "source": [
    "returns = returns.rename(columns={\"USDOLLAR\":cash_ticker})"
   ]
  },
  {
   "cell_type": "code",
   "execution_count": 8,
   "metadata": {},
   "outputs": [],
   "source": [
    "borrow_costs = returns.copy()\n",
    "borrow_costs[:] = 1E-4\n",
    "borrow_costs[cash_ticker] = 0.\n",
    "\n",
    "dividends = returns.copy()\n",
    "dividends[:] = 0."
   ]
  },
  {
   "cell_type": "code",
   "execution_count": 9,
   "metadata": {},
   "outputs": [],
   "source": [
    "sigmas[cash_ticker] = 0."
   ]
  },
  {
   "cell_type": "code",
   "execution_count": 10,
   "metadata": {},
   "outputs": [],
   "source": [
    "volumes = volumes.iloc[1:]"
   ]
  },
  {
   "cell_type": "code",
   "execution_count": 11,
   "metadata": {},
   "outputs": [],
   "source": [
    "volumes[cash_ticker] = np.finfo(np.float).max"
   ]
  },
  {
   "cell_type": "code",
   "execution_count": 12,
   "metadata": {},
   "outputs": [],
   "source": [
    "tcost_model=helium.TransactionCost(gamma = 1., \n",
    "                                   half_spread=0.0005/2,\n",
    "                                   nonlin_coef = 1.,\n",
    "                                   sigmas = sigmas, \n",
    "                                   nonlin_power = 1.5,\n",
    "                                   volumes = volumes,\n",
    "                                   asym_coef = 0.)"
   ]
  },
  {
   "cell_type": "code",
   "execution_count": 13,
   "metadata": {},
   "outputs": [],
   "source": [
    "hcost_model=helium.HoldingCost(gamma = 1., borrow_costs=dividends, dividends=dividends)"
   ]
  },
  {
   "cell_type": "code",
   "execution_count": 14,
   "metadata": {},
   "outputs": [],
   "source": [
    "simulator = helium.MarketSimulator(returns, volumes, costs=[tcost_model, hcost_model], cash_ticker='_CASH')"
   ]
  },
  {
   "cell_type": "code",
   "execution_count": 15,
   "metadata": {},
   "outputs": [
    {
     "data": {
      "text/plain": [
       "((2517, 11), (2517, 11), (2517, 11), (2517, 11))"
      ]
     },
     "execution_count": 15,
     "metadata": {},
     "output_type": "execute_result"
    }
   ],
   "source": [
    "(returns.shape, volumes.shape, borrow_costs.shape, dividends.shape)"
   ]
  },
  {
   "cell_type": "code",
   "execution_count": 16,
   "metadata": {},
   "outputs": [],
   "source": [
    "policies = [helium.PeriodicRebalance(target=w_b, period=p) for p in ['day', 'week', 'month', 'quarter', 'year']]\n",
    "policies.append(helium.Hold())"
   ]
  },
  {
   "cell_type": "code",
   "execution_count": 17,
   "metadata": {},
   "outputs": [],
   "source": [
    "res = pd.DataFrame(index=['Daily','Weekly','Monthly','Quarterly','Annually','Hold'])\n",
    "for label, fund_val in [('\\$100M',1E8), ('\\$10B',1E10)]:\n",
    "    res[label] = simulator.run_multi(fund_val*w_b, start_date=start_t, end_date=end_t, policies=policies, parallel=False)"
   ]
  },
  {
   "cell_type": "code",
   "execution_count": 18,
   "metadata": {},
   "outputs": [],
   "source": [
    "used_returns = returns.loc[(returns.index>=start_t)&(returns.index<=end_t)]\n",
    "benchmark_returns = pd.Series(index=used_returns.index, data=np.dot(used_returns.values, w_b.values))\n",
    "\n",
    "table=pd.DataFrame()"
   ]
  },
  {
   "cell_type": "code",
   "execution_count": 19,
   "metadata": {},
   "outputs": [
    {
     "name": "stderr",
     "output_type": "stream",
     "text": [
      "C:\\Anaconda3\\lib\\site-packages\\ipykernel_launcher.py:6: DeprecationWarning: \n",
      ".ix is deprecated. Please use\n",
      ".loc for label based indexing or\n",
      ".iloc for positional indexing\n",
      "\n",
      "See the documentation here:\n",
      "http://pandas.pydata.org/pandas-docs/stable/indexing.html#ix-indexer-is-deprecated\n",
      "  \n"
     ]
    }
   ],
   "source": [
    "table[r'Active return']=res.applymap(lambda res: 100*250*(res.returns - benchmark_returns).mean()).unstack()\n",
    "table[r'Active risk']= res.applymap(lambda res: np.std(benchmark_returns - res.returns)*100*np.sqrt(250)).unstack()\n",
    "table[r'Trans. costs']=res.applymap(lambda res: (res.simulator_TransactionCost/res.v).mean() * 100 * 250).unstack()\n",
    "table[r'Turnover']= res.applymap(lambda res: res.turnover.mean()*100.*250.).unstack()\n",
    "table_print=pd.DataFrame(table,copy=True)\n",
    "table_print.ix[:,:]=table_print.ix[:,:].applymap(lambda x: r'%.2f%%'%x )"
   ]
  },
  {
   "cell_type": "code",
   "execution_count": 20,
   "metadata": {},
   "outputs": [
    {
     "name": "stdout",
     "output_type": "stream",
     "text": [
      "\\begin{tabular}{llllll}\n",
      "\\toprule\n",
      "       &       & Active return & Active risk & Trans. costs & Turnover \\\\\n",
      "\\midrule\n",
      "\\$100M & Daily &        -0.07\\% &       0.00\\% &        0.07\\% &  184.78\\% \\\\\n",
      "       & Weekly &        -0.03\\% &       0.14\\% &        0.04\\% &   89.73\\% \\\\\n",
      "       & Monthly &         0.10\\% &       0.33\\% &        0.03\\% &   46.83\\% \\\\\n",
      "       & Quarterly &         0.32\\% &       0.66\\% &        0.02\\% &   27.23\\% \\\\\n",
      "       & Annually &         0.45\\% &       1.04\\% &        0.01\\% &   13.25\\% \\\\\n",
      "       & Hold &         0.35\\% &       1.91\\% &        0.00\\% &    0.00\\% \\\\\n",
      "\\$10B & Daily &        -0.32\\% &       0.02\\% &        0.32\\% &  184.78\\% \\\\\n",
      "       & Weekly &        -0.20\\% &       0.14\\% &        0.21\\% &   89.73\\% \\\\\n",
      "       & Monthly &        -0.04\\% &       0.34\\% &        0.17\\% &   46.83\\% \\\\\n",
      "       & Quarterly &         0.24\\% &       0.66\\% &        0.10\\% &   27.23\\% \\\\\n",
      "       & Annually &         0.40\\% &       1.04\\% &        0.08\\% &   13.25\\% \\\\\n",
      "       & Hold &         0.35\\% &       1.91\\% &        0.00\\% &    0.00\\% \\\\\n",
      "\\bottomrule\n",
      "\\end{tabular}\n",
      "\n"
     ]
    }
   ],
   "source": [
    "print(table_print.to_latex(float_format='%.2f', escape=False).replace('%',r'\\%'))"
   ]
  },
  {
   "cell_type": "code",
   "execution_count": 21,
   "metadata": {},
   "outputs": [
    {
     "data": {
      "text/html": [
       "<div>\n",
       "<style scoped>\n",
       "    .dataframe tbody tr th:only-of-type {\n",
       "        vertical-align: middle;\n",
       "    }\n",
       "\n",
       "    .dataframe tbody tr th {\n",
       "        vertical-align: top;\n",
       "    }\n",
       "\n",
       "    .dataframe thead th {\n",
       "        text-align: right;\n",
       "    }\n",
       "</style>\n",
       "<table border=\"1\" class=\"dataframe\">\n",
       "  <thead>\n",
       "    <tr style=\"text-align: right;\">\n",
       "      <th></th>\n",
       "      <th></th>\n",
       "      <th>Active return</th>\n",
       "      <th>Active risk</th>\n",
       "      <th>Trans. costs</th>\n",
       "      <th>Turnover</th>\n",
       "    </tr>\n",
       "  </thead>\n",
       "  <tbody>\n",
       "    <tr>\n",
       "      <th rowspan=\"6\" valign=\"top\">\\$100M</th>\n",
       "      <th>Daily</th>\n",
       "      <td>-0.074085</td>\n",
       "      <td>0.003637</td>\n",
       "      <td>0.074057</td>\n",
       "      <td>184.775142</td>\n",
       "    </tr>\n",
       "    <tr>\n",
       "      <th>Weekly</th>\n",
       "      <td>-0.030836</td>\n",
       "      <td>0.137640</td>\n",
       "      <td>0.041298</td>\n",
       "      <td>89.729178</td>\n",
       "    </tr>\n",
       "    <tr>\n",
       "      <th>Monthly</th>\n",
       "      <td>0.102161</td>\n",
       "      <td>0.333906</td>\n",
       "      <td>0.027423</td>\n",
       "      <td>46.825441</td>\n",
       "    </tr>\n",
       "    <tr>\n",
       "      <th>Quarterly</th>\n",
       "      <td>0.321649</td>\n",
       "      <td>0.656116</td>\n",
       "      <td>0.016510</td>\n",
       "      <td>27.229872</td>\n",
       "    </tr>\n",
       "    <tr>\n",
       "      <th>Annually</th>\n",
       "      <td>0.453409</td>\n",
       "      <td>1.035914</td>\n",
       "      <td>0.011078</td>\n",
       "      <td>13.246859</td>\n",
       "    </tr>\n",
       "    <tr>\n",
       "      <th>Hold</th>\n",
       "      <td>0.352910</td>\n",
       "      <td>1.911901</td>\n",
       "      <td>0.000000</td>\n",
       "      <td>0.000000</td>\n",
       "    </tr>\n",
       "    <tr>\n",
       "      <th rowspan=\"6\" valign=\"top\">\\$10B</th>\n",
       "      <th>Daily</th>\n",
       "      <td>-0.324128</td>\n",
       "      <td>0.023560</td>\n",
       "      <td>0.323957</td>\n",
       "      <td>184.777433</td>\n",
       "    </tr>\n",
       "    <tr>\n",
       "      <th>Weekly</th>\n",
       "      <td>-0.199430</td>\n",
       "      <td>0.142768</td>\n",
       "      <td>0.210675</td>\n",
       "      <td>89.729615</td>\n",
       "    </tr>\n",
       "    <tr>\n",
       "      <th>Monthly</th>\n",
       "      <td>-0.036793</td>\n",
       "      <td>0.339712</td>\n",
       "      <td>0.168573</td>\n",
       "      <td>46.825096</td>\n",
       "    </tr>\n",
       "    <tr>\n",
       "      <th>Quarterly</th>\n",
       "      <td>0.236137</td>\n",
       "      <td>0.658599</td>\n",
       "      <td>0.103735</td>\n",
       "      <td>27.230574</td>\n",
       "    </tr>\n",
       "    <tr>\n",
       "      <th>Annually</th>\n",
       "      <td>0.396829</td>\n",
       "      <td>1.038912</td>\n",
       "      <td>0.081000</td>\n",
       "      <td>13.245110</td>\n",
       "    </tr>\n",
       "    <tr>\n",
       "      <th>Hold</th>\n",
       "      <td>0.352910</td>\n",
       "      <td>1.911901</td>\n",
       "      <td>0.000000</td>\n",
       "      <td>0.000000</td>\n",
       "    </tr>\n",
       "  </tbody>\n",
       "</table>\n",
       "</div>"
      ],
      "text/plain": [
       "                  Active return  Active risk  Trans. costs    Turnover\n",
       "\\$100M Daily          -0.074085     0.003637      0.074057  184.775142\n",
       "       Weekly         -0.030836     0.137640      0.041298   89.729178\n",
       "       Monthly         0.102161     0.333906      0.027423   46.825441\n",
       "       Quarterly       0.321649     0.656116      0.016510   27.229872\n",
       "       Annually        0.453409     1.035914      0.011078   13.246859\n",
       "       Hold            0.352910     1.911901      0.000000    0.000000\n",
       "\\$10B  Daily          -0.324128     0.023560      0.323957  184.777433\n",
       "       Weekly         -0.199430     0.142768      0.210675   89.729615\n",
       "       Monthly        -0.036793     0.339712      0.168573   46.825096\n",
       "       Quarterly       0.236137     0.658599      0.103735   27.230574\n",
       "       Annually        0.396829     1.038912      0.081000   13.245110\n",
       "       Hold            0.352910     1.911901      0.000000    0.000000"
      ]
     },
     "execution_count": 21,
     "metadata": {},
     "output_type": "execute_result"
    }
   ],
   "source": [
    "table"
   ]
  },
  {
   "cell_type": "code",
   "execution_count": 22,
   "metadata": {},
   "outputs": [
    {
     "data": {
      "image/png": "[encoded data removed]",
      "text/plain": [
       "<matplotlib.figure.Figure at 0x5f64550>"
      ]
     },
     "metadata": {},
     "output_type": "display_data"
    }
   ],
   "source": [
    "plt.figure(figsize=(8,5))\n",
    "for v1 in table.index.levels[0][:]:\n",
    "    x = table.loc[v1]['Trans. costs']\n",
    "    y = table.loc[v1]['Active risk']\n",
    "    plt.plot(np.array(x),np.array(y), 'o-', label='$%s\\mathrm{%s}$'%(v1[:-1],v1[-1:]))\n",
    "plt.legend(loc='upper right')\n",
    "plt.xlabel('Transaction cost')\n",
    "plt.ylabel('Risk')\n",
    "\n",
    "import matplotlib.ticker as mtick\n",
    "ax = plt.gca()\n",
    "ax.xaxis.set_major_formatter(mtick.FormatStrFormatter('%.2f%%'))\n",
    "ax.yaxis.set_major_formatter(mtick.FormatStrFormatter('%.1f%%'))\n",
    "#plt.savefig(plotdir+'basic_frontier.png')"
   ]
  }
 ],
 "metadata": {
  "kernelspec": {
   "display_name": "Python 3",
   "language": "python",
   "name": "python3"
  },
  "language_info": {
   "codemirror_mode": {
    "name": "ipython",
    "version": 3
   },
   "file_extension": ".py",
   "mimetype": "text/x-python",
   "name": "python",
   "nbconvert_exporter": "python",
   "pygments_lexer": "ipython3",
   "version": "3.6.3"
  }
 },
 "nbformat": 4,
 "nbformat_minor": 2
}
