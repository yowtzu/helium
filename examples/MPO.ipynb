{
 "cells": [
  {
   "cell_type": "code",
   "execution_count": 1,
   "metadata": {},
   "outputs": [],
   "source": [
    "import os\n",
    "import sys\n",
    "sys.path.insert(0, os.path.abspath('..'))"
   ]
  },
  {
   "cell_type": "code",
   "execution_count": 2,
   "metadata": {
    "scrolled": true
   },
   "outputs": [
    {
     "name": "stderr",
     "output_type": "stream",
     "text": [
      "C:\\Anaconda3\\lib\\site-packages\\ipykernel_launcher.py:19: DeprecationWarning: \n",
      ".ix is deprecated. Please use\n",
      ".loc for label based indexing or\n",
      ".iloc for positional indexing\n",
      "\n",
      "See the documentation here:\n",
      "http://pandas.pydata.org/pandas-docs/stable/indexing.html#ix-indexer-is-deprecated\n",
      "C:\\Anaconda3\\lib\\site-packages\\ipykernel_launcher.py:20: DeprecationWarning: \n",
      ".ix is deprecated. Please use\n",
      ".loc for label based indexing or\n",
      ".iloc for positional indexing\n",
      "\n",
      "See the documentation here:\n",
      "http://pandas.pydata.org/pandas-docs/stable/indexing.html#ix-indexer-is-deprecated\n",
      "C:\\Anaconda3\\lib\\site-packages\\ipykernel_launcher.py:21: DeprecationWarning: \n",
      ".ix is deprecated. Please use\n",
      ".loc for label based indexing or\n",
      ".iloc for positional indexing\n",
      "\n",
      "See the documentation here:\n",
      "http://pandas.pydata.org/pandas-docs/stable/indexing.html#ix-indexer-is-deprecated\n"
     ]
    }
   ],
   "source": [
    "%load_ext autoreload\n",
    "%autoreload 2\n",
    "%matplotlib inline\n",
    "\n",
    "import pandas as pd\n",
    "import numpy as np\n",
    "import matplotlib.pyplot as plt\n",
    "import helium\n",
    "\n",
    "plotdir = '../../cvxportfolio/portfolio/plots/'\n",
    "datadir='../../cvxportfolio/data/'\n",
    "\n",
    "sigmas=pd.read_csv(datadir+'sigmas.csv.gz',index_col=0,parse_dates=[0]).iloc[:,:-1]\n",
    "returns=pd.read_csv(datadir+'returns.csv.gz',index_col=0,parse_dates=[0])\n",
    "volumes=pd.read_csv(datadir+'volumes.csv.gz',index_col=0,parse_dates=[0]).iloc[:,:-1]\n",
    "\n",
    "#, 'NKE', 'IBM', 'BAC', 'C'\n",
    "subset_tickers = ['AMZN', 'GOOGL', 'BAC', 'USDOLLAR']\n",
    "sigmas = sigmas.ix[:, sigmas.columns.isin(subset_tickers)]\n",
    "returns = returns.ix[:, returns.columns.isin(subset_tickers)]\n",
    "volumes = volumes.ix[:, volumes.columns.isin(subset_tickers)]\n",
    "\n",
    "start_date=\"2012-02-01\"\n",
    "end_date=\"2014-02-08\""
   ]
  },
  {
   "cell_type": "code",
   "execution_count": 3,
   "metadata": {},
   "outputs": [],
   "source": [
    "cash_ticker = \"_CASH\""
   ]
  },
  {
   "cell_type": "code",
   "execution_count": 4,
   "metadata": {},
   "outputs": [],
   "source": [
    "sigmas[cash_ticker] = 0.\n",
    "returns = returns.rename(columns={\"USDOLLAR\": cash_ticker})\n",
    "volumes[cash_ticker] = np.finfo(np.float).max"
   ]
  },
  {
   "cell_type": "code",
   "execution_count": 5,
   "metadata": {},
   "outputs": [],
   "source": [
    "w_b = pd.Series(index=returns.columns, data=1)\n",
    "w_b._CASH = 0.\n",
    "w_b/=sum(w_b)\n"
   ]
  },
  {
   "cell_type": "code",
   "execution_count": 6,
   "metadata": {},
   "outputs": [
    {
     "name": "stderr",
     "output_type": "stream",
     "text": [
      "C:\\Anaconda3\\lib\\site-packages\\ipykernel_launcher.py:5: DeprecationWarning: \n",
      ".ix is deprecated. Please use\n",
      ".loc for label based indexing or\n",
      ".iloc for positional indexing\n",
      "\n",
      "See the documentation here:\n",
      "http://pandas.pydata.org/pandas-docs/stable/indexing.html#ix-indexer-is-deprecated\n",
      "  \"\"\"\n",
      "C:\\Anaconda3\\lib\\site-packages\\ipykernel_launcher.py:6: DeprecationWarning: \n",
      ".ix is deprecated. Please use\n",
      ".loc for label based indexing or\n",
      ".iloc for positional indexing\n",
      "\n",
      "See the documentation here:\n",
      "http://pandas.pydata.org/pandas-docs/stable/indexing.html#ix-indexer-is-deprecated\n",
      "  \n",
      "C:\\Anaconda3\\lib\\site-packages\\ipykernel_launcher.py:7: DeprecationWarning: \n",
      ".ix is deprecated. Please use\n",
      ".loc for label based indexing or\n",
      ".iloc for positional indexing\n",
      "\n",
      "See the documentation here:\n",
      "http://pandas.pydata.org/pandas-docs/stable/indexing.html#ix-indexer-is-deprecated\n",
      "  import sys\n"
     ]
    }
   ],
   "source": [
    "return_estimate=pd.read_csv(datadir+'return_estimate.csv.gz',index_col=0,parse_dates=[0]).dropna()\n",
    "volume_estimate=pd.read_csv(datadir+'volume_estimate.csv.gz',index_col=0,parse_dates=[0]).iloc[:,:-1].dropna()\n",
    "sigma_estimate=pd.read_csv(datadir+'sigma_estimate.csv.gz',index_col=0,parse_dates=[0]).iloc[:,:-1].dropna()\n",
    "\n",
    "return_estimate = return_estimate.ix[:, return_estimate.columns.isin(subset_tickers)]\n",
    "volume_estimate = volume_estimate.ix[:, volume_estimate.columns.isin(subset_tickers)]\n",
    "sigma_estimate = sigma_estimate.ix[:, sigma_estimate.columns.isin(subset_tickers)]"
   ]
  },
  {
   "cell_type": "code",
   "execution_count": 7,
   "metadata": {},
   "outputs": [],
   "source": [
    "sigma_estimate[cash_ticker] = 0.\n",
    "return_estimate = return_estimate.rename(columns={\"USDOLLAR\": cash_ticker})\n",
    "volume_estimate[cash_ticker] = np.finfo(np.float).max"
   ]
  },
  {
   "cell_type": "code",
   "execution_count": 8,
   "metadata": {},
   "outputs": [],
   "source": [
    "borrow_costs = returns.copy()\n",
    "borrow_costs[:] = 1E-4\n",
    "borrow_costs[cash_ticker] = 0.\n",
    "\n",
    "dividends = returns.copy()\n",
    "dividends[:] = 0.\n",
    "\n",
    "simulated_hcost=helium.HoldingCost(gamma = 1., borrow_costs=borrow_costs, dividends=dividends)\n",
    "simulated_tcost=helium.TransactionCost(gamma =1.0, \n",
    "                                             half_spread=0.0005/2,\n",
    "                                             nonlin_coef = 1.,\n",
    "                                             sigmas = sigmas, \n",
    "                                             nonlin_power = 1.5,\n",
    "                                             volumes = volumes,\n",
    "                                             asym_coef = 0.)\n",
    "\n",
    "simulator = helium.MarketSimulator(returns, volumes, costs=[\n",
    "    simulated_tcost, \n",
    "    simulated_hcost\n",
    "], cash_ticker=cash_ticker)"
   ]
  },
  {
   "cell_type": "code",
   "execution_count": 9,
   "metadata": {},
   "outputs": [],
   "source": [
    "r_est_dict = {}\n",
    "d_est_dict = {}\n",
    "for day in return_estimate.index[:-1]:\n",
    "    rrr = return_estimate.loc[day:].iloc[:2].copy()\n",
    "    r_est_dict[day] = rrr\n",
    "    deltas = rrr.copy()\n",
    "    deltas[:] = 0.\n",
    "    d_est_dict[day] = deltas"
   ]
  },
  {
   "cell_type": "code",
   "execution_count": 10,
   "metadata": {},
   "outputs": [],
   "source": [
    "r= helium.DefaultRet(r_est_dict,  d_est_dict , gamma_decay=None)\n",
    "#Sigma_hat = returns.rolling(window=250, min_periods=250).cov().unstack().shift(1).stack().dropna()"
   ]
  },
  {
   "cell_type": "code",
   "execution_count": 11,
   "metadata": {},
   "outputs": [],
   "source": [
    "Sigma_hat = returns.rolling(window=250, min_periods=250).cov().unstack().shift(1).stack().dropna()"
   ]
  },
  {
   "cell_type": "code",
   "execution_count": 12,
   "metadata": {},
   "outputs": [
    {
     "name": "stdout",
     "output_type": "stream",
     "text": [
      "0.1 1.0\n",
      "0.1 2.0\n",
      "0.1 5\n",
      "0.1 10\n",
      "0.1 20\n",
      "0.3 1.0\n",
      "0.3 2.0\n",
      "0.3 5\n",
      "0.3 10\n",
      "0.3 20\n",
      "1 1.0\n",
      "1 2.0\n",
      "1 5\n",
      "1 10\n",
      "1 20\n",
      "3 1.0\n",
      "3 2.0\n",
      "3 5\n",
      "3 10\n",
      "3 20\n",
      "10 1.0\n",
      "10 2.0\n",
      "10 5\n",
      "10 10\n",
      "10 20\n",
      "30 1.0\n",
      "30 2.0\n",
      "30 5\n",
      "30 10\n",
      "30 20\n",
      "100 1.0\n",
      "100 2.0\n",
      "100 5\n",
      "100 10\n",
      "100 20\n",
      "300 1.0\n",
      "300 2.0\n",
      "300 5\n",
      "300 10\n",
      "300 20\n",
      "1000 1.0\n",
      "1000 2.0\n",
      "1000 5\n",
      "1000 10\n",
      "1000 20\n"
     ]
    }
   ],
   "source": [
    "policies = {}\n",
    "results = {}\n",
    "gamma_risks_coarse=[.1,.3,1, 3,10,30,100,300,1000]\n",
    "gamma_tcosts_coarse=[1., 2., 5,10,20]\n",
    "for gamma_risk in gamma_risks_coarse:\n",
    "    for gamma_tcost in gamma_tcosts_coarse: \n",
    "        print(gamma_risk, gamma_tcost)\n",
    "        risk_model = helium.BasicRiskCost(gamma_risk, Sigma_hat)\n",
    "        optimization_hcost = helium.HoldingCost(gamma = 1., borrow_costs=borrow_costs, dividends=dividends)\n",
    "        optimization_tcost = helium.TransactionCost(gamma_tcost, \n",
    "                                                    half_spread=0.0005/2., \n",
    "                                                    nonlin_coef = 1.,\n",
    "                                                    sigmas = sigma_estimate, \n",
    "                                                    nonlin_power = 1.5,\n",
    "                                                    volumes = volume_estimate,\n",
    "                                                    asym_coef = 0.)\n",
    "        \n",
    "        # issue optimization_tcost\n",
    "        costs = [\n",
    "           \n",
    "            risk_model, \n",
    "                 optimization_tcost, \n",
    "                optimization_hcost\n",
    "                ]\n",
    "        const = [helium.LeverageLimitConstraint(3)]\n",
    "        policies[(gamma_risk, gamma_tcost)] = helium.MultiPeriodOpt(r, costs, const, 2)\n",
    "        results[(gamma_risk, gamma_tcost)] = simulator.run(1E8*w_b, \n",
    "                                                         policies[(gamma_risk, gamma_tcost)],\n",
    "                                                         start_date, \n",
    "                                                         end_date)"
   ]
  },
  {
   "cell_type": "code",
   "execution_count": 13,
   "metadata": {},
   "outputs": [],
   "source": [
    "result_df_coarse=pd.DataFrame()\n",
    "for k in results:\n",
    "    if k[0] in gamma_risks_coarse and k[1] in gamma_tcosts_coarse:\n",
    "        result_df_coarse.loc[k[0], k[1]] = results[k]\n",
    "        \n",
    "result_df = result_df_coarse.loc[sorted(result_df_coarse.index), sorted(result_df_coarse.columns)]"
   ]
  },
  {
   "cell_type": "code",
   "execution_count": 14,
   "metadata": {
    "scrolled": true
   },
   "outputs": [
    {
     "name": "stdout",
     "output_type": "stream",
     "text": [
      "[38.955876925159671, 38.217142298600869, 35.592408217920827, 26.861065625517959, 14.516285372344592, 6.3975890419082644, 2.4279372528312373, 0.97868995849070783, 0.37117221433639519] [39.56561117436772, 38.681603354244906, 37.9359430409689, 30.007808704139883, 18.0572136740183, 9.970579255942376, 4.4678058502364095, 1.8884528659101705, 0.6225980957407292]\n",
      "[38.728776646003247, 36.820595901066675, 29.852369581152214, 20.844540385566397, 11.126340082497945, 4.7767003976656079, 1.8193700318383403, 0.76096638988208987, 0.31949199016374402] [43.199323349439865, 41.51901421102766, 35.97169378374385, 27.06041967516589, 15.311033894054662, 8.424591327917035, 3.6826360621094705, 1.534541504382709, 0.5043819544634792]\n",
      "[31.538788213770609, 27.414743920020769, 21.40812038676129, 12.252217273042282, 6.0761992220802457, 3.0089089307826775, 1.2505558859486789, 0.54904099618297042, 0.26354806632020444] [27.201858382894073, 22.13082384445928, 16.348463367090726, 11.512472250583556, 8.080636583087683, 4.661378390421955, 2.0115931200107013, 0.8782670162910484, 0.2805212420586066]\n",
      "[20.12823354476232, 17.840144351223529, 13.460864076282526, 8.4779989926300026, 4.0758489815280665, 1.9361903107339287, 0.92973484596632661, 0.48116683383793857, 0.26241417675519363] [26.693748205443384, 19.933176603481318, 9.686124051151124, 4.563733973460853, 2.7214301062638846, 1.3927900680522445, 0.7790465357631509, 0.35282868470470397, 0.07522454186130237]\n",
      "[19.927630617009175, 19.437637884219487, 17.745231560656723, 12.942321956898823, 5.7103231869331736, 2.2532862059023184, 0.97030626949043886, 0.52281131664176794, 0.29792265602375712] [36.36819281148706, 35.2276325040066, 31.23809384157106, 19.980040803533353, 5.326330051343605, 1.0853922525384196, -0.06319744416003512, -0.18185702762192832, -0.13394447164801157]\n"
     ]
    },
    {
     "data": {
      "image/png": "[encoded data removed]",
      "text/plain": [
       "<matplotlib.figure.Figure at 0xd767908>"
      ]
     },
     "metadata": {},
     "output_type": "display_data"
    }
   ],
   "source": [
    "plt.figure(figsize=(8,5))\n",
    "for gamma_tcost in result_df.columns:\n",
    "    x=[el.excess_returns.std()*100*np.sqrt(250) for el in result_df[gamma_tcost]]\n",
    "    y=[el.excess_returns.mean()*100*250 for el in result_df[gamma_tcost]]\n",
    "    print(x,y)\n",
    "    plt.plot(np.array(x),np.array(y), '.-', label='$\\gamma^\\mathrm{trade} = %g$'%gamma_tcost)\n",
    "plt.legend(loc='lower right')\n",
    "plt.xlabel('Risk')\n",
    "plt.ylabel('Return')\n",
    "plt.xlim([0,50])\n",
    "plt.ylim([-5,30])\n",
    "\n",
    "\n",
    "import matplotlib.ticker as mtick\n",
    "ax = plt.gca()\n",
    "ax.xaxis.set_major_formatter(mtick.FormatStrFormatter('%.0f%%'))\n",
    "ax.yaxis.set_major_formatter(mtick.FormatStrFormatter('%.0f%%'))\n",
    "\n",
    "#plt.savefig(plotdir+'spo_riskrewardfrontier.png')"
   ]
  },
  {
   "cell_type": "markdown",
   "metadata": {},
   "source": [
    "### Fine Search"
   ]
  },
  {
   "cell_type": "code",
   "execution_count": 15,
   "metadata": {},
   "outputs": [
    {
     "name": "stdout",
     "output_type": "stream",
     "text": [
      "0.1 4\n",
      "0.1 5\n",
      "0.1 6\n",
      "0.1 7\n",
      "0.1 8\n",
      "0.3 4\n",
      "0.3 5\n",
      "0.3 6\n",
      "0.3 7\n",
      "0.3 8\n",
      "1 4\n",
      "1 5\n",
      "1 6\n",
      "1 7\n",
      "1 8\n",
      "3 4\n",
      "3 5\n",
      "3 6\n",
      "3 7\n",
      "3 8\n",
      "10 4\n",
      "10 5\n",
      "10 6\n",
      "10 7\n",
      "10 8\n",
      "30 4\n",
      "30 5\n",
      "30 6\n",
      "30 7\n",
      "30 8\n",
      "100 4\n",
      "100 5\n",
      "100 6\n",
      "100 7\n",
      "100 8\n",
      "300 4\n",
      "300 5\n",
      "300 6\n",
      "300 7\n",
      "300 8\n",
      "1000 4\n",
      "1000 5\n",
      "1000 6\n",
      "1000 7\n",
      "1000 8\n"
     ]
    }
   ],
   "source": [
    "gamma_risks_fine=gamma_risks_coarse\n",
    "gamma_tcosts_fine=[4,5,6,7,8]\n",
    "for gamma_risk in gamma_risks_fine:\n",
    "    for gamma_tcost in gamma_tcosts_fine:\n",
    "        print(gamma_risk, gamma_tcost)\n",
    "        risk_model = helium.BasicRiskCost(gamma_risk, Sigma_hat)\n",
    "        optimization_hcost = helium.HoldingCost(gamma = 1., borrow_costs=borrow_costs, dividends=dividends)\n",
    "        optimization_tcost = helium.TransactionCost(gamma_tcost, \n",
    "                                                    half_spread=0.0005/2., \n",
    "                                                    nonlin_coef = 1.,\n",
    "                                                    sigmas = sigma_estimate, \n",
    "                                                    nonlin_power = 1.5,\n",
    "                                                    volumes = volume_estimate,\n",
    "                                                    asym_coef = 0.)\n",
    "        \n",
    "        # issue optimization_tcost\n",
    "        costs = [\n",
    "           \n",
    "            risk_model, \n",
    "                 optimization_tcost, \n",
    "                optimization_hcost\n",
    "                ]\n",
    "        const = [helium.LeverageLimitConstraint(3)]\n",
    "        policies[(gamma_risk, gamma_tcost)] = helium.MultiPeriodOpt(r, costs, const, 2)\n",
    "        results[(gamma_risk, gamma_tcost)] = simulator.run(1E8*w_b, \n",
    "                                                         policies[(gamma_risk, gamma_tcost)],\n",
    "                                                         start_date, \n",
    "                                                         end_date)"
   ]
  },
  {
   "cell_type": "code",
   "execution_count": 16,
   "metadata": {},
   "outputs": [],
   "source": [
    "result_df_fine=pd.DataFrame()\n",
    "for k in results:\n",
    "    if k[0] in gamma_risks_fine and k[1] in list(gamma_tcosts_fine):\n",
    "        result_df_fine.loc[k[0], k[1]] = results[k]\n",
    "        \n",
    "result_df_fine=result_df_fine.loc[sorted(result_df_fine.index),sorted(result_df_fine.columns)]"
   ]
  },
  {
   "cell_type": "code",
   "execution_count": 17,
   "metadata": {
    "scrolled": true
   },
   "outputs": [
    {
     "name": "stdout",
     "output_type": "stream",
     "text": [
      "[30.693232616867629, 27.74545598206031, 21.789750826035046, 14.024020263388513, 7.2547132997769816, 3.4299138377534164, 1.3677461746418014, 0.58754426009607019, 0.27218255779610967] [29.05593840150604, 23.643271619402697, 17.325758790876318, 14.584256404536463, 10.553842383784847, 5.540273421755626, 2.441990717309359, 1.0601827654511538, 0.34211025836967696]\n",
      "[31.538788202933546, 27.414743907872417, 21.408120387539224, 12.252217273299975, 6.0761992209350231, 3.008908930605291, 1.2505558791830393, 0.54904100457921967, 0.26354806801166036] [27.201858348091147, 22.13082383833096, 16.348463356160796, 11.512472255875839, 8.080636579359217, 4.661378390594018, 2.011593105458864, 0.8782669060455464, 0.2805212115778987]\n",
      "[32.20637873709579, 27.991120477032414, 20.183253679790429, 11.175352793232781, 5.2638932979572148, 2.6638813288308469, 1.1585667505561825, 0.52455728351815922, 0.25934043977367532] [26.999008579681124, 22.095407550170368, 13.043585550252528, 8.479338534327622, 6.113186132829141, 3.836882970745267, 1.7009870909502889, 0.7222487823384914, 0.22643707197079918]\n",
      "[28.75770796134832, 25.937866927073998, 18.083613005940553, 10.495152094156328, 4.7286077139538092, 2.3825321749067254, 1.0843391084293332, 0.50834180955275643, 0.25816240678989183] [24.2922001106269, 19.24922243784002, 9.99103953149172, 6.101208630803604, 4.711267501804788, 3.0316564992979917, 1.4627099474950684, 0.597947216010546, 0.18011107490508174]\n",
      "[25.186696485048074, 22.320757404114346, 16.42779651129981, 9.6372983063985824, 4.3918943951847504, 2.1753374361269775, 1.0225328292143925, 0.49639469245063844, 0.25879569833382754] [23.016763004191986, 17.4094030977573, 8.04920095693166, 5.029062548579607, 3.748343043189218, 2.3437149541900206, 1.235007954282065, 0.5031539529690205, 0.13889476010977073]\n"
     ]
    },
    {
     "data": {
      "image/png": "[encoded data removed]",
      "text/plain": [
       "<matplotlib.figure.Figure at 0xd54e4a8>"
      ]
     },
     "metadata": {},
     "output_type": "display_data"
    }
   ],
   "source": [
    "plt.figure(figsize=(8,5))\n",
    "for gamma_tcost in result_df_fine.columns[:]:\n",
    "    x=[el.excess_returns.std()*100*np.sqrt(250) for el in result_df_fine[gamma_tcost]]\n",
    "    y=[el.excess_returns.mean()*100*250 for el in result_df_fine[gamma_tcost]]\n",
    "    print(x,y)\n",
    "    plt.plot(np.array(x),np.array(y), '.-', label='$\\gamma^\\mathrm{trade} = %g$'%gamma_tcost)\n",
    "plt.legend(loc='lower right')\n",
    "plt.xlabel('Risk')\n",
    "plt.ylabel('Return')\n",
    "plt.xlim([0,20])\n",
    "plt.ylim([0,30])\n",
    "\n",
    "\n",
    "import matplotlib.ticker as mtick\n",
    "ax = plt.gca()\n",
    "ax.xaxis.set_major_formatter(mtick.FormatStrFormatter('%.0f%%'))\n",
    "ax.yaxis.set_major_formatter(mtick.FormatStrFormatter('%.0f%%'))\n",
    "\n",
    "#plt.savefig(plotdir+'spo_riskrewardfrontier_fine.png')"
   ]
  },
  {
   "cell_type": "markdown",
   "metadata": {},
   "source": [
    "### Pareto"
   ]
  },
  {
   "cell_type": "code",
   "execution_count": null,
   "metadata": {},
   "outputs": [],
   "source": [
    "results_pareto={}"
   ]
  },
  {
   "cell_type": "code",
   "execution_count": null,
   "metadata": {},
   "outputs": [],
   "source": [
    "policies = {}\n",
    "#results = {}\n",
    "gamma_risks_pareto=[0.1, 0.17782, 0.31624, 0.562, 1.0, 2, 3, 6, 10, 18, 32, 56, 100, 178, 316, 562, 1000]\n",
    "gamma_tcosts_pareto=[5.5,6,6.5,7,7.5,8]\n",
    "gamma_holdings=[.1,1.,10.,100.]\n",
    "for gamma_risk in gamma_risks_pareto:\n",
    "    for gamma_tcost in gamma_tcosts_pareto : \n",
    "        for gamma_holding in gamma_holdings:\n",
    "            risk_model = helium.BasicRiskCost(gamma_risk, Sigma_hat)\n",
    "            optimization_hcost = helium.HoldingCost(gamma_holding , borrow_costs=borrow_costs, dividends=dividends)\n",
    "            optimization_tcost = helium.TransactionCost(gamma_tcost, \n",
    "                                                    half_spread=0.0005/2., \n",
    "                                                    nonlin_coef = 1.,\n",
    "                                                    sigmas = sigma_estimate, \n",
    "                                                    nonlin_power = 1.5,\n",
    "                                                    volumes = volume_estimate,\n",
    "                                                    asym_coef = 0.)\n",
    "        \n",
    "            # issue optimization_tcost\n",
    "\n",
    "            costs = [risk_model,    optimization_tcost,                  optimization_hcost  ]\n",
    "            const = [helium.LeverageLimitConstraint(3)]\n",
    "            policies[(gamma_risk, gamma_tcost, gamma_holding)] = helium.MultiPeriodOpt(r, costs, const, steps=1)\n",
    "            results_pareto[(gamma_risk, gamma_tcost, gamma_holding)] = simulator.run(1E8*w_b, \n",
    "                                                         policies[(gamma_risk, gamma_tcost, gamma_holding)],\n",
    "                                                         start_date, \n",
    "                                                         end_date)"
   ]
  },
  {
   "cell_type": "code",
   "execution_count": null,
   "metadata": {},
   "outputs": [],
   "source": [
    "len(results_pareto)"
   ]
  },
  {
   "cell_type": "code",
   "execution_count": null,
   "metadata": {},
   "outputs": [],
   "source": [
    "table=pd.DataFrame()\n",
    "table[r'$\\gamma^\\mathrm{risk}$']=[el[0] for el in results_pareto.keys()]\n",
    "table[r'$\\gamma^\\mathrm{trade}$']=[el[1] for el in results_pareto.keys()]\n",
    "table[r'$\\gamma^\\mathrm{hold}$']=['%g'%el[2] for el in results_pareto.keys()]\n",
    "table['Return']=[(results_pareto[k].excess_returns.mean()*100*250) for k in results_pareto.keys()]\n",
    "table['Risk']=[(results_pareto[k].excess_returns.std()*100*np.sqrt(250)) for k in results_pareto.keys()]\n",
    "table = table.sort_values('Risk', ascending=False).reset_index()\n",
    "del table['index']\n",
    "is_pareto = lambda i: table.loc[i,'Return']>=max(table.ix[i:].Return)\n",
    "table['is_pareto'] = [is_pareto(i) for i in range(len(table))]\n",
    "#table.to_csv(datadir+'spo_pareto_results.csv', float_format='%g')"
   ]
  },
  {
   "cell_type": "code",
   "execution_count": null,
   "metadata": {},
   "outputs": [],
   "source": [
    "plt.figure(figsize=(8,5))\n",
    "plt.scatter(table.Risk.values,table.Return.values)\n",
    "plt.plot(table[table.is_pareto].Risk,table[table.is_pareto].Return, 'C1.-', label='Pareto optimal frontier')\n",
    "plt.legend( loc='lower right')\n",
    "plt.xlabel('Risk')\n",
    "plt.ylabel('Return')\n",
    "plt.xlim([0,20])\n",
    "plt.ylim([0,30])\n",
    "\n",
    "import matplotlib.ticker as mtick\n",
    "ax = plt.gca()\n",
    "ax.xaxis.set_major_formatter(mtick.FormatStrFormatter('%.0f%%'))\n",
    "ax.yaxis.set_major_formatter(mtick.FormatStrFormatter('%.0f%%'))\n",
    "\n",
    "#plt.savefig(plotdir+'spo_pareto.png')"
   ]
  },
  {
   "cell_type": "code",
   "execution_count": null,
   "metadata": {},
   "outputs": [],
   "source": [
    "xlim=20\n",
    "ylim=30\n",
    "table=table[table.is_pareto]\n",
    "table=table[table.Risk <= xlim]\n",
    "table=table[table.Return <= ylim]\n",
    "del table['is_pareto']\n",
    "table.Risk=table.Risk.apply(lambda x: '%.2f%%'%x)\n",
    "table.Return=table.Return.apply(lambda x: '%.2f%%'%x)\n",
    "print(table.iloc[::-1].to_latex(float_format='%.2f', escape=False, index=False).replace('%',r'\\%'))"
   ]
  },
  {
   "cell_type": "code",
   "execution_count": null,
   "metadata": {},
   "outputs": [],
   "source": [
    "table.tail(50)"
   ]
  }
 ],
 "metadata": {
  "kernelspec": {
   "display_name": "Python 3",
   "language": "python",
   "name": "python3"
  },
  "language_info": {
   "codemirror_mode": {
    "name": "ipython",
    "version": 3
   },
   "file_extension": ".py",
   "mimetype": "text/x-python",
   "name": "python",
   "nbconvert_exporter": "python",
   "pygments_lexer": "ipython3",
   "version": "3.6.3"
  }
 },
 "nbformat": 4,
 "nbformat_minor": 2
}
