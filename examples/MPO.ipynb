{
 "cells": [
  {
   "cell_type": "code",
   "execution_count": 2,
   "metadata": {},
   "outputs": [],
   "source": [
    "import os\n",
    "import sys\n",
    "sys.path.insert(0, os.path.abspath('..'))"
   ]
  },
  {
   "cell_type": "code",
   "execution_count": 3,
   "metadata": {
    "scrolled": true
   },
   "outputs": [
    {
     "name": "stderr",
     "output_type": "stream",
     "text": [
      "/home/yowtzu/anaconda/envs/cvxportfolio/lib/python3.6/site-packages/ipykernel_launcher.py:19: DeprecationWarning: \n",
      ".ix is deprecated. Please use\n",
      ".loc for label based indexing or\n",
      ".iloc for positional indexing\n",
      "\n",
      "See the documentation here:\n",
      "http://pandas.pydata.org/pandas-docs/stable/indexing.html#ix-indexer-is-deprecated\n",
      "/home/yowtzu/anaconda/envs/cvxportfolio/lib/python3.6/site-packages/ipykernel_launcher.py:20: DeprecationWarning: \n",
      ".ix is deprecated. Please use\n",
      ".loc for label based indexing or\n",
      ".iloc for positional indexing\n",
      "\n",
      "See the documentation here:\n",
      "http://pandas.pydata.org/pandas-docs/stable/indexing.html#ix-indexer-is-deprecated\n",
      "/home/yowtzu/anaconda/envs/cvxportfolio/lib/python3.6/site-packages/ipykernel_launcher.py:21: DeprecationWarning: \n",
      ".ix is deprecated. Please use\n",
      ".loc for label based indexing or\n",
      ".iloc for positional indexing\n",
      "\n",
      "See the documentation here:\n",
      "http://pandas.pydata.org/pandas-docs/stable/indexing.html#ix-indexer-is-deprecated\n"
     ]
    }
   ],
   "source": [
    "%load_ext autoreload\n",
    "%autoreload 2\n",
    "%matplotlib inline\n",
    "\n",
    "import pandas as pd\n",
    "import numpy as np\n",
    "import matplotlib.pyplot as plt\n",
    "import helium\n",
    "\n",
    "plotdir = '../../cvxportfolio/portfolio/plots/'\n",
    "datadir='../../cvxportfolio/data/'\n",
    "\n",
    "sigmas=pd.read_csv(datadir+'sigmas.csv.gz',index_col=0,parse_dates=[0]).iloc[:,:-1]\n",
    "returns=pd.read_csv(datadir+'returns.csv.gz',index_col=0,parse_dates=[0])\n",
    "volumes=pd.read_csv(datadir+'volumes.csv.gz',index_col=0,parse_dates=[0]).iloc[:,:-1]\n",
    "\n",
    "#, 'NKE', 'IBM', 'BAC', 'C'\n",
    "subset_tickers = ['AMZN', 'GOOGL', 'BAC', 'USDOLLAR']\n",
    "sigmas = sigmas.ix[:, sigmas.columns.isin(subset_tickers)]\n",
    "returns = returns.ix[:, returns.columns.isin(subset_tickers)]\n",
    "volumes = volumes.ix[:, volumes.columns.isin(subset_tickers)]\n",
    "\n",
    "start_date=\"2012-02-01\"\n",
    "end_date=\"2016-12-29\""
   ]
  },
  {
   "cell_type": "code",
   "execution_count": 4,
   "metadata": {},
   "outputs": [],
   "source": [
    "cash_ticker = \"_CASH\""
   ]
  },
  {
   "cell_type": "code",
   "execution_count": 5,
   "metadata": {},
   "outputs": [],
   "source": [
    "sigmas[cash_ticker] = 0.\n",
    "returns = returns.rename(columns={\"USDOLLAR\": cash_ticker})\n",
    "volumes[cash_ticker] = np.finfo(np.float).max"
   ]
  },
  {
   "cell_type": "code",
   "execution_count": 6,
   "metadata": {},
   "outputs": [],
   "source": [
    "w_b = pd.Series(index=returns.columns, data=1)\n",
    "w_b._CASH = 0.\n",
    "w_b/=sum(w_b)\n"
   ]
  },
  {
   "cell_type": "code",
   "execution_count": 7,
   "metadata": {},
   "outputs": [
    {
     "name": "stderr",
     "output_type": "stream",
     "text": [
      "/home/yowtzu/anaconda/envs/cvxportfolio/lib/python3.6/site-packages/ipykernel_launcher.py:5: DeprecationWarning: \n",
      ".ix is deprecated. Please use\n",
      ".loc for label based indexing or\n",
      ".iloc for positional indexing\n",
      "\n",
      "See the documentation here:\n",
      "http://pandas.pydata.org/pandas-docs/stable/indexing.html#ix-indexer-is-deprecated\n",
      "  \"\"\"\n",
      "/home/yowtzu/anaconda/envs/cvxportfolio/lib/python3.6/site-packages/ipykernel_launcher.py:6: DeprecationWarning: \n",
      ".ix is deprecated. Please use\n",
      ".loc for label based indexing or\n",
      ".iloc for positional indexing\n",
      "\n",
      "See the documentation here:\n",
      "http://pandas.pydata.org/pandas-docs/stable/indexing.html#ix-indexer-is-deprecated\n",
      "  \n",
      "/home/yowtzu/anaconda/envs/cvxportfolio/lib/python3.6/site-packages/ipykernel_launcher.py:7: DeprecationWarning: \n",
      ".ix is deprecated. Please use\n",
      ".loc for label based indexing or\n",
      ".iloc for positional indexing\n",
      "\n",
      "See the documentation here:\n",
      "http://pandas.pydata.org/pandas-docs/stable/indexing.html#ix-indexer-is-deprecated\n",
      "  import sys\n"
     ]
    }
   ],
   "source": [
    "return_estimate=pd.read_csv(datadir+'return_estimate.csv.gz',index_col=0,parse_dates=[0]).dropna()\n",
    "volume_estimate=pd.read_csv(datadir+'volume_estimate.csv.gz',index_col=0,parse_dates=[0]).iloc[:,:-1].dropna()\n",
    "sigma_estimate=pd.read_csv(datadir+'sigma_estimate.csv.gz',index_col=0,parse_dates=[0]).iloc[:,:-1].dropna()\n",
    "\n",
    "return_estimate = return_estimate.ix[:, return_estimate.columns.isin(subset_tickers)]\n",
    "volume_estimate = volume_estimate.ix[:, volume_estimate.columns.isin(subset_tickers)]\n",
    "sigma_estimate = sigma_estimate.ix[:, sigma_estimate.columns.isin(subset_tickers)]"
   ]
  },
  {
   "cell_type": "code",
   "execution_count": 8,
   "metadata": {},
   "outputs": [],
   "source": [
    "sigma_estimate[cash_ticker] = 0.\n",
    "return_estimate = return_estimate.rename(columns={\"USDOLLAR\": cash_ticker})\n",
    "volume_estimate[cash_ticker] = np.finfo(np.float).max"
   ]
  },
  {
   "cell_type": "code",
   "execution_count": 9,
   "metadata": {},
   "outputs": [],
   "source": [
    "borrow_costs = returns.copy()\n",
    "borrow_costs[:] = 1E-4\n",
    "borrow_costs[cash_ticker] = 0.\n",
    "\n",
    "dividends = returns.copy()\n",
    "dividends[:] = 0.\n",
    "\n",
    "simulated_hcost=helium.HoldingCost(gamma = 1., borrow_costs=borrow_costs, dividends=dividends)\n",
    "simulated_tcost=helium.TransactionCost(gamma =1.0, \n",
    "                                             half_spread=0.0005/2,\n",
    "                                             nonlin_coef = 1.,\n",
    "                                             sigmas = sigmas, \n",
    "                                             nonlin_power = 1.5,\n",
    "                                             volumes = volumes,\n",
    "                                             asym_coef = 0.)\n",
    "\n",
    "simulator = helium.MarketSimulator(returns, volumes, costs=[\n",
    "#    simulated_tcost, \n",
    "#    simulated_hcost\n",
    "], cash_ticker=cash_ticker)"
   ]
  },
  {
   "cell_type": "code",
   "execution_count": 10,
   "metadata": {},
   "outputs": [],
   "source": [
    "r_est_dict = {}\n",
    "d_est_dict = {}\n",
    "for day in return_estimate.index[:-1]:\n",
    "    rrr = return_estimate.loc[day:].iloc[:2].copy()\n",
    "    r_est_dict[day] = rrr\n",
    "    deltas = rrr.copy()\n",
    "    deltas[:] = 0.\n",
    "    d_est_dict[day] = deltas"
   ]
  },
  {
   "cell_type": "code",
   "execution_count": 11,
   "metadata": {},
   "outputs": [],
   "source": [
    "r= helium.DefaultRet(r_est_dict,  d_est_dict , gamma_decay=None)\n",
    "#Sigma_hat = returns.rolling(window=250, min_periods=250).cov().unstack().shift(1).stack().dropna()"
   ]
  },
  {
   "cell_type": "code",
   "execution_count": 12,
   "metadata": {},
   "outputs": [],
   "source": [
    "Sigma_hat = returns.rolling(window=250, min_periods=250).cov().unstack().shift(1).stack().dropna()"
   ]
  },
  {
   "cell_type": "code",
   "execution_count": 13,
   "metadata": {},
   "outputs": [
    {
     "data": {
      "text/html": [
       "<div>\n",
       "<style scoped>\n",
       "    .dataframe tbody tr th:only-of-type {\n",
       "        vertical-align: middle;\n",
       "    }\n",
       "\n",
       "    .dataframe tbody tr th {\n",
       "        vertical-align: top;\n",
       "    }\n",
       "\n",
       "    .dataframe thead th {\n",
       "        text-align: right;\n",
       "    }\n",
       "</style>\n",
       "<table border=\"1\" class=\"dataframe\">\n",
       "  <thead>\n",
       "    <tr style=\"text-align: right;\">\n",
       "      <th></th>\n",
       "      <th>GOOGL</th>\n",
       "      <th>AMZN</th>\n",
       "      <th>BAC</th>\n",
       "      <th>_CASH</th>\n",
       "    </tr>\n",
       "    <tr>\n",
       "      <th>Date</th>\n",
       "      <th></th>\n",
       "      <th></th>\n",
       "      <th></th>\n",
       "      <th></th>\n",
       "    </tr>\n",
       "  </thead>\n",
       "  <tbody>\n",
       "    <tr>\n",
       "      <th>2016-12-29</th>\n",
       "      <td>0.0</td>\n",
       "      <td>0.0</td>\n",
       "      <td>0.0</td>\n",
       "      <td>0.0</td>\n",
       "    </tr>\n",
       "    <tr>\n",
       "      <th>2016-12-30</th>\n",
       "      <td>0.0</td>\n",
       "      <td>0.0</td>\n",
       "      <td>0.0</td>\n",
       "      <td>0.0</td>\n",
       "    </tr>\n",
       "  </tbody>\n",
       "</table>\n",
       "</div>"
      ],
      "text/plain": [
       "            GOOGL  AMZN  BAC  _CASH\n",
       "Date                               \n",
       "2016-12-29    0.0   0.0  0.0    0.0\n",
       "2016-12-30    0.0   0.0  0.0    0.0"
      ]
     },
     "execution_count": 13,
     "metadata": {},
     "output_type": "execute_result"
    }
   ],
   "source": [
    "d_est_dict[pd.to_datetime('2016-12-29')]"
   ]
  },
  {
   "cell_type": "code",
   "execution_count": 14,
   "metadata": {},
   "outputs": [],
   "source": [
    "??helium.BasicRiskCost"
   ]
  },
  {
   "cell_type": "code",
   "execution_count": 15,
   "metadata": {},
   "outputs": [
    {
     "name": "stdout",
     "output_type": "stream",
     "text": [
      "0.1 1.0\n",
      "0.1 2.0\n",
      "0.3 1.0\n",
      "0.3 2.0\n",
      "1 1.0\n",
      "1 2.0\n"
     ]
    }
   ],
   "source": [
    "policies = {}\n",
    "results = {}\n",
    "gamma_risks_coarse=[.1,.3,1, ]#3,10,30,100,300,1000]\n",
    "gamma_tcosts_coarse=[1., 2.]#, 5,10,20]\n",
    "for gamma_risk in gamma_risks_coarse:\n",
    "    for gamma_tcost in gamma_tcosts_coarse: \n",
    "        print(gamma_risk, gamma_tcost)\n",
    "        risk_model = helium.BasicRiskCost(gamma_risk, Sigma_hat)\n",
    "        optimization_hcost = helium.HoldingCost(gamma = 1., borrow_costs=borrow_costs, dividends=dividends)\n",
    "        optimization_tcost = helium.TransactionCost(gamma_tcost, \n",
    "                                                    half_spread=0.0005/2., \n",
    "                                                    nonlin_coef = 1.,\n",
    "                                                    sigmas = sigma_estimate, \n",
    "                                                    nonlin_power = 1.5,\n",
    "                                                    volumes = volume_estimate,\n",
    "                                                    asym_coef = 0.)\n",
    "        \n",
    "        # issue optimization_tcost\n",
    "        costs = [\n",
    "           # risk_model, \n",
    "          #       optimization_tcost, \n",
    "          #       optimization_hcost\n",
    "                ]\n",
    "        const = [helium.LeverageLimitConstraint(3)]\n",
    "        policies[(gamma_risk, gamma_tcost)] = helium.MultiPeriodOpt(r, [], const, 2)\n",
    "        results[(gamma_risk, gamma_tcost)] = simulator.run(1E8*w_b, \n",
    "                                                         policies[(gamma_risk, gamma_tcost)],\n",
    "                                                         start_date, \n",
    "                                                         end_date)"
   ]
  },
  {
   "cell_type": "code",
   "execution_count": 63,
   "metadata": {},
   "outputs": [],
   "source": [
    "result_df_coarse=pd.DataFrame()\n",
    "for k in results:\n",
    "    if k[0] in gamma_risks_coarse and k[1] in gamma_tcosts_coarse:\n",
    "        result_df_coarse.loc[k[0], k[1]] = results[k]\n",
    "        \n",
    "result_df = result_df_coarse.loc[sorted(result_df_coarse.index), sorted(result_df_coarse.columns)]"
   ]
  },
  {
   "cell_type": "code",
   "execution_count": 64,
   "metadata": {},
   "outputs": [
    {
     "name": "stdout",
     "output_type": "stream",
     "text": [
      "[51.104710385043994, 51.104710385046026, 51.10471038503438] [145.5371250496302, 145.5371250490975, 145.53712504953006]\n",
      "[51.10471038503493, 51.10471038504173, 51.10471038505016] [145.5371250495919, 145.53712504970386, 145.53712504936655]\n"
     ]
    },
    {
     "data": {
      "image/png": "[encoded data removed]",
      "text/plain": [
       "<Figure size 576x360 with 1 Axes>"
      ]
     },
     "metadata": {},
     "output_type": "display_data"
    }
   ],
   "source": [
    "plt.figure(figsize=(8,5))\n",
    "for gamma_tcost in result_df.columns:\n",
    "    x=[el.excess_returns.std()*100*np.sqrt(250) for el in result_df[gamma_tcost]]\n",
    "    y=[el.excess_returns.mean()*100*250 for el in result_df[gamma_tcost]]\n",
    "    print(x,y)\n",
    "    plt.plot(np.array(x),np.array(y), '.-', label='$\\gamma^\\mathrm{trade} = %g$'%gamma_tcost)\n",
    "plt.legend(loc='lower right')\n",
    "plt.xlabel('Risk')\n",
    "plt.ylabel('Return')\n",
    "plt.xlim([0,50])\n",
    "plt.ylim([-5,30])\n",
    "\n",
    "\n",
    "import matplotlib.ticker as mtick\n",
    "ax = plt.gca()\n",
    "ax.xaxis.set_major_formatter(mtick.FormatStrFormatter('%.0f%%'))\n",
    "ax.yaxis.set_major_formatter(mtick.FormatStrFormatter('%.0f%%'))\n",
    "\n",
    "#plt.savefig(plotdir+'spo_riskrewardfrontier.png')"
   ]
  },
  {
   "cell_type": "markdown",
   "metadata": {},
   "source": [
    "### Fine Search"
   ]
  },
  {
   "cell_type": "code",
   "execution_count": 14,
   "metadata": {},
   "outputs": [],
   "source": [
    "policies = {}\n",
    "results = {}\n",
    "gamma_risks_fine=gamma_risks_coarse\n",
    "gamma_tcosts_fine=[4,5,6,7,8]\n",
    "for gamma_risk in gamma_risks_fine:\n",
    "    for gamma_tcost in gamma_tcosts_fine: \n",
    "        risk_model = helium.BasicRiskCost(gamma_risk, Sigma_hat)\n",
    "        optimization_hcost = helium.HoldingCost(gamma = 1., borrow_costs=borrow_costs, dividends=dividends)\n",
    "        optimization_tcost = helium.TransactionCost(gamma_tcost, \n",
    "                                                    half_spread=0.0005/2., \n",
    "                                                    nonlin_coef = 1.,\n",
    "                                                    sigmas = asigma_estimate, \n",
    "                                                    nonlin_power = 1.5,\n",
    "                                                    volumes = volume_estimate,\n",
    "                                                    asym_coef = 0.)\n",
    "        \n",
    "        # issue optimization_tcost\n",
    "        costs = [\n",
    "            risk_model, \n",
    "                 optimization_tcost, \n",
    "                 optimization_hcost\n",
    "                ]\n",
    "        const = [helium.LeverageLimitConstraint(3)]\n",
    "        policies[(gamma_risk, gamma_tcost)] = helium.SinglePeriodOpt(r, costs, const)\n",
    "        results[(gamma_risk, gamma_tcost)] = simulator.run(1E8*w_b, \n",
    "                                                         policies[(gamma_risk, gamma_tcost)],\n",
    "                                                         start_date, \n",
    "                                                         end_date)"
   ]
  },
  {
   "cell_type": "code",
   "execution_count": 15,
   "metadata": {},
   "outputs": [],
   "source": [
    "result_df_fine=pd.DataFrame()\n",
    "for k in results:\n",
    "    if k[0] in gamma_risks_fine and k[1] in list(gamma_tcosts_fine):\n",
    "        result_df_fine.loc[k[0], k[1]] = results[k]\n",
    "        \n",
    "result_df_fine=result_df_fine.loc[sorted(result_df_fine.index),sorted(result_df_fine.columns)]"
   ]
  },
  {
   "cell_type": "code",
   "execution_count": 16,
   "metadata": {
    "scrolled": true
   },
   "outputs": [],
   "source": [
    "plt.figure(figsize=(8,5))\n",
    "for gamma_tcost in result_df_fine.columns[:]:\n",
    "    x=[el.excess_returns.std()*100*np.sqrt(250) for el in result_df_fine[gamma_tcost]]\n",
    "    y=[el.excess_returns.mean()*100*250 for el in result_df_fine[gamma_tcost]]\n",
    "    print(x,y)\n",
    "    plt.plot(np.array(x),np.array(y), '.-', label='$\\gamma^\\mathrm{trade} = %g$'%gamma_tcost)\n",
    "plt.legend(loc='lower right')\n",
    "plt.xlabel('Risk')\n",
    "plt.ylabel('Return')\n",
    "plt.xlim([0,20])\n",
    "plt.ylim([0,30])\n",
    "\n",
    "\n",
    "import matplotlib.ticker as mtick\n",
    "ax = plt.gca()\n",
    "ax.xaxis.set_major_formatter(mtick.FormatStrFormatter('%.0f%%'))\n",
    "ax.yaxis.set_major_formatter(mtick.FormatStrFormatter('%.0f%%'))\n",
    "\n",
    "#plt.savefig(plotdir+'spo_riskrewardfrontier_fine.png')"
   ]
  },
  {
   "cell_type": "markdown",
   "metadata": {},
   "source": [
    "### Pareto"
   ]
  },
  {
   "cell_type": "code",
   "execution_count": 17,
   "metadata": {},
   "outputs": [],
   "source": [
    "results_pareto={}"
   ]
  },
  {
   "cell_type": "code",
   "execution_count": 64,
   "metadata": {},
   "outputs": [
    {
     "ename": "KeyError",
     "evalue": "Timestamp('2016-12-30 00:00:00')",
     "output_type": "error",
     "traceback": [
      "\u001b[0;31m---------------------------------------------------------------------------\u001b[0m",
      "\u001b[0;31mKeyError\u001b[0m                                  Traceback (most recent call last)",
      "\u001b[0;32m<ipython-input-64-1618839d333c>\u001b[0m in \u001b[0;36m<module>\u001b[0;34m()\u001b[0m\n\u001b[1;32m     25\u001b[0m                                                          \u001b[0mpolicies\u001b[0m\u001b[0;34m[\u001b[0m\u001b[0;34m(\u001b[0m\u001b[0mgamma_risk\u001b[0m\u001b[0;34m,\u001b[0m \u001b[0mgamma_tcost\u001b[0m\u001b[0;34m,\u001b[0m \u001b[0mgamma_holding\u001b[0m\u001b[0;34m)\u001b[0m\u001b[0;34m]\u001b[0m\u001b[0;34m,\u001b[0m\u001b[0;34m\u001b[0m\u001b[0m\n\u001b[1;32m     26\u001b[0m                                                          \u001b[0mstart_date\u001b[0m\u001b[0;34m,\u001b[0m\u001b[0;34m\u001b[0m\u001b[0m\n\u001b[0;32m---> 27\u001b[0;31m                                                          end_date)\n\u001b[0m",
      "\u001b[0;32m~/repo/helium/helium/simulator.py\u001b[0m in \u001b[0;36mrun\u001b[0;34m(self, h_init, policy, start_date, end_date, **kwargs)\u001b[0m\n\u001b[1;32m    103\u001b[0m             \u001b[0mstart\u001b[0m \u001b[0;34m=\u001b[0m \u001b[0mtime\u001b[0m\u001b[0;34m.\u001b[0m\u001b[0mtime\u001b[0m\u001b[0;34m(\u001b[0m\u001b[0;34m)\u001b[0m\u001b[0;34m\u001b[0m\u001b[0m\n\u001b[1;32m    104\u001b[0m             \u001b[0;32mtry\u001b[0m\u001b[0;34m:\u001b[0m\u001b[0;34m\u001b[0m\u001b[0m\n\u001b[0;32m--> 105\u001b[0;31m                 \u001b[0mu\u001b[0m \u001b[0;34m=\u001b[0m \u001b[0mpolicy\u001b[0m\u001b[0;34m.\u001b[0m\u001b[0mget_trades\u001b[0m\u001b[0;34m(\u001b[0m\u001b[0mt\u001b[0m\u001b[0;34m,\u001b[0m \u001b[0mh\u001b[0m\u001b[0;34m)\u001b[0m\u001b[0;34m\u001b[0m\u001b[0m\n\u001b[0m\u001b[1;32m    106\u001b[0m             \u001b[0;32mexcept\u001b[0m \u001b[0mcvx\u001b[0m\u001b[0;34m.\u001b[0m\u001b[0mSolverError\u001b[0m\u001b[0;34m:\u001b[0m\u001b[0;34m\u001b[0m\u001b[0m\n\u001b[1;32m    107\u001b[0m                 \u001b[0mlogging\u001b[0m\u001b[0;34m.\u001b[0m\u001b[0mwarning\u001b[0m\u001b[0;34m(\u001b[0m\u001b[0;34m'Solver failed on time %s. Default to no trades.'\u001b[0m \u001b[0;34m%\u001b[0m \u001b[0mt\u001b[0m\u001b[0;34m)\u001b[0m\u001b[0;34m\u001b[0m\u001b[0m\n",
      "\u001b[0;32m~/repo/helium/helium/policy.py\u001b[0m in \u001b[0;36mget_trades\u001b[0;34m(self, t, h)\u001b[0m\n\u001b[1;32m     14\u001b[0m     \u001b[0;32mdef\u001b[0m \u001b[0mget_trades\u001b[0m\u001b[0;34m(\u001b[0m\u001b[0mself\u001b[0m\u001b[0;34m,\u001b[0m \u001b[0mt\u001b[0m\u001b[0;34m,\u001b[0m \u001b[0mh\u001b[0m\u001b[0;34m:\u001b[0m \u001b[0mpd\u001b[0m\u001b[0;34m.\u001b[0m\u001b[0mSeries\u001b[0m\u001b[0;34m)\u001b[0m\u001b[0;34m:\u001b[0m\u001b[0;34m\u001b[0m\u001b[0m\n\u001b[1;32m     15\u001b[0m         \u001b[0mv\u001b[0m \u001b[0;34m=\u001b[0m \u001b[0msum\u001b[0m\u001b[0;34m(\u001b[0m\u001b[0mh\u001b[0m\u001b[0;34m)\u001b[0m\u001b[0;34m\u001b[0m\u001b[0m\n\u001b[0;32m---> 16\u001b[0;31m         \u001b[0;32mreturn\u001b[0m \u001b[0mv\u001b[0m \u001b[0;34m*\u001b[0m \u001b[0mself\u001b[0m\u001b[0;34m.\u001b[0m\u001b[0mget_weights\u001b[0m\u001b[0;34m(\u001b[0m\u001b[0mt\u001b[0m\u001b[0;34m,\u001b[0m \u001b[0mh\u001b[0m\u001b[0;34m,\u001b[0m \u001b[0;32mNone\u001b[0m\u001b[0;34m)\u001b[0m\u001b[0;34m\u001b[0m\u001b[0m\n\u001b[0m\u001b[1;32m     17\u001b[0m \u001b[0;34m\u001b[0m\u001b[0m\n\u001b[1;32m     18\u001b[0m     \u001b[0;34m@\u001b[0m\u001b[0mabstractmethod\u001b[0m\u001b[0;34m\u001b[0m\u001b[0m\n",
      "\u001b[0;32m~/repo/helium/helium/policy.py\u001b[0m in \u001b[0;36mget_weights\u001b[0;34m(self, t, h, v)\u001b[0m\n\u001b[1;32m    144\u001b[0m             \u001b[0mw_plus\u001b[0m \u001b[0;34m=\u001b[0m \u001b[0mw\u001b[0m \u001b[0;34m+\u001b[0m \u001b[0mz\u001b[0m\u001b[0;34m\u001b[0m\u001b[0m\n\u001b[1;32m    145\u001b[0m             \u001b[0;31m### Equation 4.4 & 4.5\u001b[0m\u001b[0;34m\u001b[0m\u001b[0;34m\u001b[0m\u001b[0m\n\u001b[0;32m--> 146\u001b[0;31m             \u001b[0mret\u001b[0m \u001b[0;34m=\u001b[0m \u001b[0mself\u001b[0m\u001b[0;34m.\u001b[0m\u001b[0mrets\u001b[0m\u001b[0;34m.\u001b[0m\u001b[0mexpr\u001b[0m\u001b[0;34m(\u001b[0m\u001b[0mt\u001b[0m\u001b[0;34m,\u001b[0m \u001b[0mw_plus\u001b[0m\u001b[0;34m,\u001b[0m \u001b[0mz\u001b[0m\u001b[0;34m,\u001b[0m \u001b[0mv\u001b[0m\u001b[0;34m,\u001b[0m \u001b[0mstep\u001b[0m\u001b[0;34m)\u001b[0m\u001b[0;34m\u001b[0m\u001b[0m\n\u001b[0m\u001b[1;32m    147\u001b[0m             \u001b[0;32massert\u001b[0m\u001b[0;34m(\u001b[0m\u001b[0mret\u001b[0m\u001b[0;34m.\u001b[0m\u001b[0mis_concave\u001b[0m\u001b[0;34m(\u001b[0m\u001b[0;34m)\u001b[0m\u001b[0;34m)\u001b[0m\u001b[0;34m\u001b[0m\u001b[0m\n\u001b[1;32m    148\u001b[0m \u001b[0;34m\u001b[0m\u001b[0m\n",
      "\u001b[0;32m~/repo/helium/helium/ret.py\u001b[0m in \u001b[0;36mexpr\u001b[0;34m(self, t, w_plus, z, v, theta)\u001b[0m\n\u001b[1;32m     26\u001b[0m         \"\"\"\n\u001b[1;32m     27\u001b[0m         \u001b[0;31m#TO DO to put back benchmark\u001b[0m\u001b[0;34m\u001b[0m\u001b[0;34m\u001b[0m\u001b[0m\n\u001b[0;32m---> 28\u001b[0;31m         \u001b[0;32mreturn\u001b[0m \u001b[0mself\u001b[0m\u001b[0;34m.\u001b[0m\u001b[0m_expr\u001b[0m\u001b[0;34m(\u001b[0m\u001b[0mt\u001b[0m\u001b[0;34m,\u001b[0m \u001b[0mw_plus\u001b[0m\u001b[0;34m,\u001b[0m \u001b[0mz\u001b[0m\u001b[0;34m,\u001b[0m \u001b[0mv\u001b[0m\u001b[0;34m,\u001b[0m \u001b[0mtheta\u001b[0m\u001b[0;34m)\u001b[0m\u001b[0;34m\u001b[0m\u001b[0m\n\u001b[0m\u001b[1;32m     29\u001b[0m \u001b[0;34m\u001b[0m\u001b[0m\n\u001b[1;32m     30\u001b[0m     \u001b[0;34m@\u001b[0m\u001b[0mabstractmethod\u001b[0m\u001b[0;34m\u001b[0m\u001b[0m\n",
      "\u001b[0;32m~/repo/helium/helium/ret.py\u001b[0m in \u001b[0;36m_expr\u001b[0;34m(self, t, w_plus, z, v, theta)\u001b[0m\n\u001b[1;32m     45\u001b[0m \u001b[0;34m\u001b[0m\u001b[0m\n\u001b[1;32m     46\u001b[0m     \u001b[0;32mdef\u001b[0m \u001b[0m_expr\u001b[0m\u001b[0;34m(\u001b[0m\u001b[0mself\u001b[0m\u001b[0;34m,\u001b[0m \u001b[0mt\u001b[0m\u001b[0;34m,\u001b[0m \u001b[0mw_plus\u001b[0m\u001b[0;34m,\u001b[0m \u001b[0mz\u001b[0m\u001b[0;34m,\u001b[0m \u001b[0mv\u001b[0m\u001b[0;34m,\u001b[0m \u001b[0mtheta\u001b[0m\u001b[0;34m)\u001b[0m\u001b[0;34m:\u001b[0m\u001b[0;34m\u001b[0m\u001b[0m\n\u001b[0;32m---> 47\u001b[0;31m         \u001b[0mrets\u001b[0m \u001b[0;34m=\u001b[0m \u001b[0mself\u001b[0m\u001b[0;34m.\u001b[0m\u001b[0mrets\u001b[0m\u001b[0;34m[\u001b[0m\u001b[0mt\u001b[0m\u001b[0;34m]\u001b[0m\u001b[0;34m.\u001b[0m\u001b[0miloc\u001b[0m\u001b[0;34m[\u001b[0m\u001b[0mtheta\u001b[0m\u001b[0;34m]\u001b[0m\u001b[0;34m.\u001b[0m\u001b[0mvalues\u001b[0m\u001b[0;34m\u001b[0m\u001b[0m\n\u001b[0m\u001b[1;32m     48\u001b[0m         \u001b[0mdeltas\u001b[0m \u001b[0;34m=\u001b[0m \u001b[0mself\u001b[0m\u001b[0;34m.\u001b[0m\u001b[0mdeltas\u001b[0m\u001b[0;34m[\u001b[0m\u001b[0mt\u001b[0m\u001b[0;34m]\u001b[0m\u001b[0;34m.\u001b[0m\u001b[0miloc\u001b[0m\u001b[0;34m[\u001b[0m\u001b[0mtheta\u001b[0m\u001b[0;34m]\u001b[0m\u001b[0;34m.\u001b[0m\u001b[0mvalues\u001b[0m\u001b[0;34m\u001b[0m\u001b[0m\n\u001b[1;32m     49\u001b[0m         \u001b[0;31m#rets = self.rets.loc[t].values\u001b[0m\u001b[0;34m\u001b[0m\u001b[0;34m\u001b[0m\u001b[0m\n",
      "\u001b[0;31mKeyError\u001b[0m: Timestamp('2016-12-30 00:00:00')"
     ]
    }
   ],
   "source": [
    "policies = {}\n",
    "#results = {}\n",
    "gamma_risks_pareto=[0.1, 0.17782, 0.31624, 0.562, 1.0, 2, 3, 6, 10, 18, 32, 56, 100, 178, 316, 562, 1000]\n",
    "gamma_tcosts_pareto=[5.5,6,6.5,7,7.5,8]\n",
    "gamma_holdings=[.1,1.,10.,100.]\n",
    "for gamma_risk in gamma_risks_pareto:\n",
    "    for gamma_tcost in gamma_tcosts_pareto : \n",
    "        for gamma_holding in gamma_holdings:\n",
    "            risk_model = helium.BasicRiskCost(gamma_risk, Sigma_hat)\n",
    "            optimization_hcost = helium.HoldingCost(gamma_holding , borrow_costs=borrow_costs, dividends=dividends)\n",
    "            optimization_tcost = helium.TransactionCost(gamma_tcost, \n",
    "                                                    half_spread=0.0005/2., \n",
    "                                                    nonlin_coef = 1.,\n",
    "                                                    sigmas = sigma_estimate, \n",
    "                                                    nonlin_power = 1.5,\n",
    "                                                    volumes = volume_estimate,\n",
    "                                                    asym_coef = 0.)\n",
    "        \n",
    "            # issue optimization_tcost\n",
    "\n",
    "            costs = [risk_model,    optimization_tcost,                  optimization_hcost  ]\n",
    "            const = [helium.LeverageLimitConstraint(3)]\n",
    "            policies[(gamma_risk, gamma_tcost, gamma_holding)] = helium.MultiPeriodOpt(r, costs, const, steps=1)\n",
    "            results_pareto[(gamma_risk, gamma_tcost, gamma_holding)] = simulator.run(1E8*w_b, \n",
    "                                                         policies[(gamma_risk, gamma_tcost, gamma_holding)],\n",
    "                                                         start_date, \n",
    "                                                         end_date)"
   ]
  },
  {
   "cell_type": "code",
   "execution_count": null,
   "metadata": {},
   "outputs": [],
   "source": [
    "len(results_pareto)"
   ]
  },
  {
   "cell_type": "code",
   "execution_count": null,
   "metadata": {},
   "outputs": [],
   "source": [
    "table=pd.DataFrame()\n",
    "table[r'$\\gamma^\\mathrm{risk}$']=[el[0] for el in results_pareto.keys()]\n",
    "table[r'$\\gamma^\\mathrm{trade}$']=[el[1] for el in results_pareto.keys()]\n",
    "table[r'$\\gamma^\\mathrm{hold}$']=['%g'%el[2] for el in results_pareto.keys()]\n",
    "table['Return']=[(results_pareto[k].excess_returns.mean()*100*250) for k in results_pareto.keys()]\n",
    "table['Risk']=[(results_pareto[k].excess_returns.std()*100*np.sqrt(250)) for k in results_pareto.keys()]\n",
    "table = table.sort_values('Risk', ascending=False).reset_index()\n",
    "del table['index']\n",
    "is_pareto = lambda i: table.loc[i,'Return']>=max(table.ix[i:].Return)\n",
    "table['is_pareto'] = [is_pareto(i) for i in range(len(table))]\n",
    "#table.to_csv(datadir+'spo_pareto_results.csv', float_format='%g')"
   ]
  },
  {
   "cell_type": "code",
   "execution_count": null,
   "metadata": {},
   "outputs": [],
   "source": [
    "plt.figure(figsize=(8,5))\n",
    "plt.scatter(table.Risk.values,table.Return.values)\n",
    "plt.plot(table[table.is_pareto].Risk,table[table.is_pareto].Return, 'C1.-', label='Pareto optimal frontier')\n",
    "plt.legend( loc='lower right')\n",
    "plt.xlabel('Risk')\n",
    "plt.ylabel('Return')\n",
    "plt.xlim([0,20])\n",
    "plt.ylim([0,30])\n",
    "\n",
    "import matplotlib.ticker as mtick\n",
    "ax = plt.gca()\n",
    "ax.xaxis.set_major_formatter(mtick.FormatStrFormatter('%.0f%%'))\n",
    "ax.yaxis.set_major_formatter(mtick.FormatStrFormatter('%.0f%%'))\n",
    "\n",
    "#plt.savefig(plotdir+'spo_pareto.png')"
   ]
  },
  {
   "cell_type": "code",
   "execution_count": null,
   "metadata": {},
   "outputs": [],
   "source": [
    "xlim=20\n",
    "ylim=30\n",
    "table=table[table.is_pareto]\n",
    "table=table[table.Risk <= xlim]\n",
    "table=table[table.Return <= ylim]\n",
    "del table['is_pareto']\n",
    "table.Risk=table.Risk.apply(lambda x: '%.2f%%'%x)\n",
    "table.Return=table.Return.apply(lambda x: '%.2f%%'%x)\n",
    "print(table.iloc[::-1].to_latex(float_format='%.2f', escape=False, index=False).replace('%',r'\\%'))"
   ]
  },
  {
   "cell_type": "code",
   "execution_count": null,
   "metadata": {},
   "outputs": [],
   "source": [
    "table.tail(50)"
   ]
  }
 ],
 "metadata": {
  "kernelspec": {
   "display_name": "Python 3",
   "language": "python",
   "name": "python3"
  },
  "language_info": {
   "codemirror_mode": {
    "name": "ipython",
    "version": 3
   },
   "file_extension": ".py",
   "mimetype": "text/x-python",
   "name": "python",
   "nbconvert_exporter": "python",
   "pygments_lexer": "ipython3",
   "version": "3.6.5"
  }
 },
 "nbformat": 4,
 "nbformat_minor": 2
}
