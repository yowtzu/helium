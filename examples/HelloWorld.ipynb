{
 "cells": [
  {
   "cell_type": "code",
   "execution_count": 1,
   "metadata": {},
   "outputs": [],
   "source": [
    "import os\n",
    "import sys\n",
    "import pandas as pd\n",
    "import numpy as np\n",
    "import quandl"
   ]
  },
  {
   "cell_type": "code",
   "execution_count": 2,
   "metadata": {},
   "outputs": [],
   "source": [
    "sys.path.insert(0, os.path.abspath('..'))\n",
    "import helium"
   ]
  },
  {
   "cell_type": "code",
   "execution_count": 3,
   "metadata": {},
   "outputs": [],
   "source": [
    "%matplotlib inline"
   ]
  },
  {
   "cell_type": "code",
   "execution_count": 4,
   "metadata": {},
   "outputs": [
    {
     "data": {
      "text/html": [
       "<div>\n",
       "<style scoped>\n",
       "    .dataframe tbody tr th:only-of-type {\n",
       "        vertical-align: middle;\n",
       "    }\n",
       "\n",
       "    .dataframe tbody tr th {\n",
       "        vertical-align: top;\n",
       "    }\n",
       "\n",
       "    .dataframe thead th {\n",
       "        text-align: right;\n",
       "    }\n",
       "</style>\n",
       "<table border=\"1\" class=\"dataframe\">\n",
       "  <thead>\n",
       "    <tr style=\"text-align: right;\">\n",
       "      <th></th>\n",
       "      <th>AMZN</th>\n",
       "      <th>GOOGL</th>\n",
       "      <th>NKE</th>\n",
       "      <th>TSLA</th>\n",
       "      <th>_CASH</th>\n",
       "    </tr>\n",
       "    <tr>\n",
       "      <th>Date</th>\n",
       "      <th></th>\n",
       "      <th></th>\n",
       "      <th></th>\n",
       "      <th></th>\n",
       "      <th></th>\n",
       "    </tr>\n",
       "  </thead>\n",
       "  <tbody>\n",
       "    <tr>\n",
       "      <th>2016-12-23</th>\n",
       "      <td>-0.007503</td>\n",
       "      <td>-0.002322</td>\n",
       "      <td>-0.004411</td>\n",
       "      <td>0.023459</td>\n",
       "      <td>0.000020</td>\n",
       "    </tr>\n",
       "    <tr>\n",
       "      <th>2016-12-27</th>\n",
       "      <td>0.014213</td>\n",
       "      <td>0.002637</td>\n",
       "      <td>-0.011944</td>\n",
       "      <td>0.029015</td>\n",
       "      <td>0.000020</td>\n",
       "    </tr>\n",
       "    <tr>\n",
       "      <th>2016-12-28</th>\n",
       "      <td>0.000946</td>\n",
       "      <td>-0.006618</td>\n",
       "      <td>-0.005264</td>\n",
       "      <td>0.000957</td>\n",
       "      <td>0.000021</td>\n",
       "    </tr>\n",
       "    <tr>\n",
       "      <th>2016-12-29</th>\n",
       "      <td>-0.009040</td>\n",
       "      <td>-0.002101</td>\n",
       "      <td>0.000784</td>\n",
       "      <td>-0.023027</td>\n",
       "      <td>0.000018</td>\n",
       "    </tr>\n",
       "    <tr>\n",
       "      <th>2016-12-30</th>\n",
       "      <td>-0.019970</td>\n",
       "      <td>-0.012991</td>\n",
       "      <td>-0.004505</td>\n",
       "      <td>-0.004612</td>\n",
       "      <td>0.000020</td>\n",
       "    </tr>\n",
       "  </tbody>\n",
       "</table>\n",
       "</div>"
      ],
      "text/plain": [
       "                AMZN     GOOGL       NKE      TSLA     _CASH\n",
       "Date                                                        \n",
       "2016-12-23 -0.007503 -0.002322 -0.004411  0.023459  0.000020\n",
       "2016-12-27  0.014213  0.002637 -0.011944  0.029015  0.000020\n",
       "2016-12-28  0.000946 -0.006618 -0.005264  0.000957  0.000021\n",
       "2016-12-29 -0.009040 -0.002101  0.000784 -0.023027  0.000018\n",
       "2016-12-30 -0.019970 -0.012991 -0.004505 -0.004612  0.000020"
      ]
     },
     "execution_count": 4,
     "metadata": {},
     "output_type": "execute_result"
    }
   ],
   "source": [
    "tickers = ['AMZN', 'GOOGL', 'TSLA', 'NKE']\n",
    "start_date='2012-01-01'\n",
    "end_date='2016-12-31'\n",
    "returns = pd.DataFrame(dict([(ticker, quandl.get('WIKI/'+ticker, \n",
    "                                    start_date=start_date, \n",
    "                                    end_date=end_date)['Adj. Close'].pct_change())\n",
    "                for ticker in tickers]))\n",
    "returns[[\"_CASH\"]]=quandl.get('FRED/DTB3', start_date=start_date, end_date=end_date)/(250*100)\n",
    "returns = returns.fillna(method='ffill').iloc[1:]\n",
    "\n",
    "returns.tail()"
   ]
  },
  {
   "cell_type": "code",
   "execution_count": 5,
   "metadata": {},
   "outputs": [
    {
     "data": {
      "text/html": [
       "<div>\n",
       "<style scoped>\n",
       "    .dataframe tbody tr th:only-of-type {\n",
       "        vertical-align: middle;\n",
       "    }\n",
       "\n",
       "    .dataframe tbody tr th {\n",
       "        vertical-align: top;\n",
       "    }\n",
       "\n",
       "    .dataframe thead th {\n",
       "        text-align: right;\n",
       "    }\n",
       "</style>\n",
       "<table border=\"1\" class=\"dataframe\">\n",
       "  <thead>\n",
       "    <tr style=\"text-align: right;\">\n",
       "      <th></th>\n",
       "      <th>AMZN</th>\n",
       "      <th>GOOGL</th>\n",
       "      <th>NKE</th>\n",
       "      <th>TSLA</th>\n",
       "      <th>_CASH</th>\n",
       "    </tr>\n",
       "    <tr>\n",
       "      <th>Date</th>\n",
       "      <th></th>\n",
       "      <th></th>\n",
       "      <th></th>\n",
       "      <th></th>\n",
       "      <th></th>\n",
       "    </tr>\n",
       "  </thead>\n",
       "  <tbody>\n",
       "    <tr>\n",
       "      <th>2016-12-23</th>\n",
       "      <td>0.000683</td>\n",
       "      <td>0.000219</td>\n",
       "      <td>-0.000660</td>\n",
       "      <td>-0.000074</td>\n",
       "      <td>0.000012</td>\n",
       "    </tr>\n",
       "    <tr>\n",
       "      <th>2016-12-27</th>\n",
       "      <td>0.000542</td>\n",
       "      <td>0.000150</td>\n",
       "      <td>-0.000706</td>\n",
       "      <td>-0.000124</td>\n",
       "      <td>0.000013</td>\n",
       "    </tr>\n",
       "    <tr>\n",
       "      <th>2016-12-28</th>\n",
       "      <td>0.000627</td>\n",
       "      <td>0.000179</td>\n",
       "      <td>-0.000691</td>\n",
       "      <td>-0.000023</td>\n",
       "      <td>0.000013</td>\n",
       "    </tr>\n",
       "    <tr>\n",
       "      <th>2016-12-29</th>\n",
       "      <td>0.000707</td>\n",
       "      <td>0.000215</td>\n",
       "      <td>-0.000664</td>\n",
       "      <td>-0.000052</td>\n",
       "      <td>0.000013</td>\n",
       "    </tr>\n",
       "    <tr>\n",
       "      <th>2016-12-30</th>\n",
       "      <td>0.000901</td>\n",
       "      <td>0.000302</td>\n",
       "      <td>-0.000598</td>\n",
       "      <td>0.000133</td>\n",
       "      <td>0.000013</td>\n",
       "    </tr>\n",
       "  </tbody>\n",
       "</table>\n",
       "</div>"
      ],
      "text/plain": [
       "                AMZN     GOOGL       NKE      TSLA     _CASH\n",
       "Date                                                        \n",
       "2016-12-23  0.000683  0.000219 -0.000660 -0.000074  0.000012\n",
       "2016-12-27  0.000542  0.000150 -0.000706 -0.000124  0.000013\n",
       "2016-12-28  0.000627  0.000179 -0.000691 -0.000023  0.000013\n",
       "2016-12-29  0.000707  0.000215 -0.000664 -0.000052  0.000013\n",
       "2016-12-30  0.000901  0.000302 -0.000598  0.000133  0.000013"
      ]
     },
     "execution_count": 5,
     "metadata": {},
     "output_type": "execute_result"
    }
   ],
   "source": [
    "r_hat = returns.rolling(window=250, min_periods=250).mean().shift(1).dropna()\n",
    "Sigma_hat = returns.rolling(window=250, min_periods=250).cov().stack().shift(1).unstack().dropna()\n",
    "\n",
    "r_hat.tail()"
   ]
  },
  {
   "cell_type": "code",
   "execution_count": 8,
   "metadata": {},
   "outputs": [],
   "source": [
    "returns = pd.read_csv(r'Y:/projects/cvxportfolio/data/returns.csv.gz', index_col=0, parse_dates=[0])\n",
    "returns.rename(columns={\"USDOLLAR\": \"_CASH\"}, inplace=True)\n",
    "\n",
    "volumes = pd.read_csv(r'Y:/projects/cvxportfolio/data/volumes.csv.gz', index_col=0, parse_dates=[0])\n",
    "volumes.rename(columns={\"USDOLLAR\": \"_CASH\"}, inplace=True)\n",
    "\n",
    "volumes[\"_CASH\"] = 0.\n",
    "volumes = volumes.iloc[1:]\n",
    "\n",
    "sigmas = pd.read_csv(r'Y:/projects/cvxportfolio/data/sigmas.csv.gz', index_col=0, parse_dates=[0])\n",
    "sigmas.rename(columns={\"USDOLLAR\": \"_CASH\"}, inplace=True)\n",
    "sigmas[\"_CASH\"] = 0.\n",
    "sigmas = sigmas.iloc[1:]"
   ]
  },
  {
   "cell_type": "code",
   "execution_count": 9,
   "metadata": {},
   "outputs": [],
   "source": [
    "w_b = pd.Series(index=returns.columns, data=1)\n",
    "w_b['_CASH'] = 0.\n",
    "w_b/=sum(w_b)\n",
    "start_date=returns.index[1]\n",
    "end_date=returns.index[-1]"
   ]
  },
  {
   "cell_type": "code",
   "execution_count": 10,
   "metadata": {},
   "outputs": [],
   "source": [
    "simulated_hcost = helium.HoldingCost(borrow_costs=0.0001, dividends=0., gamma=1.)\n",
    "simulated_tcost = helium.TransactionCost(half_spread=0.00005/2., nonlin_coef=-1., nonlin_power=1.5, asym_coef=0., sigmas=sigmas, volumes=volumes, gamma=1. )"
   ]
  },
  {
   "cell_type": "code",
   "execution_count": 18,
   "metadata": {},
   "outputs": [],
   "source": [
    "import multiprocess\n",
    "?multiprocess.Pool"
   ]
  },
  {
   "cell_type": "code",
   "execution_count": 19,
   "metadata": {},
   "outputs": [],
   "source": [
    "pool = multiprocess.Pool(3)"
   ]
  },
  {
   "cell_type": "code",
   "execution_count": 24,
   "metadata": {},
   "outputs": [],
   "source": [
    "??pool.map"
   ]
  }
 ],
 "metadata": {
  "kernelspec": {
   "display_name": "Python 3",
   "language": "python",
   "name": "python3"
  },
  "language_info": {
   "codemirror_mode": {
    "name": "ipython",
    "version": 3
   },
   "file_extension": ".py",
   "mimetype": "text/x-python",
   "name": "python",
   "nbconvert_exporter": "python",
   "pygments_lexer": "ipython3",
   "version": "3.6.3"
  }
 },
 "nbformat": 4,
 "nbformat_minor": 2
}
