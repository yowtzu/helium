{
 "cells": [
  {
   "cell_type": "code",
   "execution_count": 1,
   "metadata": {},
   "outputs": [],
   "source": [
    "%load_ext autoreload\n",
    "%autoreload 2\n",
    "%matplotlib inline"
   ]
  },
  {
   "cell_type": "code",
   "execution_count": 2,
   "metadata": {},
   "outputs": [],
   "source": [
    "import os\n",
    "import sys\n",
    "import pandas as pd\n",
    "import numpy as np\n",
    "import quandl\n",
    "import cvxpy as cvx"
   ]
  },
  {
   "cell_type": "code",
   "execution_count": 3,
   "metadata": {},
   "outputs": [],
   "source": [
    "sys.path.insert(0, os.path.abspath('..'))\n",
    "import helium"
   ]
  },
  {
   "cell_type": "code",
   "execution_count": 4,
   "metadata": {},
   "outputs": [],
   "source": [
    "%matplotlib inline"
   ]
  },
  {
   "cell_type": "code",
   "execution_count": 5,
   "metadata": {},
   "outputs": [],
   "source": [
    "quandl.ApiConfig.api_key = '8wnB7EcvJm1xEvJjzWBR'"
   ]
  },
  {
   "cell_type": "code",
   "execution_count": 6,
   "metadata": {},
   "outputs": [
    {
     "data": {
      "text/html": [
       "<div>\n",
       "<style scoped>\n",
       "    .dataframe tbody tr th:only-of-type {\n",
       "        vertical-align: middle;\n",
       "    }\n",
       "\n",
       "    .dataframe tbody tr th {\n",
       "        vertical-align: top;\n",
       "    }\n",
       "\n",
       "    .dataframe thead th {\n",
       "        text-align: right;\n",
       "    }\n",
       "</style>\n",
       "<table border=\"1\" class=\"dataframe\">\n",
       "  <thead>\n",
       "    <tr style=\"text-align: right;\">\n",
       "      <th></th>\n",
       "      <th>AMZN</th>\n",
       "      <th>GOOGL</th>\n",
       "      <th>MCD</th>\n",
       "      <th>NKE</th>\n",
       "      <th>_CASH</th>\n",
       "    </tr>\n",
       "    <tr>\n",
       "      <th>Date</th>\n",
       "      <th></th>\n",
       "      <th></th>\n",
       "      <th></th>\n",
       "      <th></th>\n",
       "      <th></th>\n",
       "    </tr>\n",
       "  </thead>\n",
       "  <tbody>\n",
       "    <tr>\n",
       "      <th>2017-01-09</th>\n",
       "      <td>0.001168</td>\n",
       "      <td>0.002387</td>\n",
       "      <td>-0.002733</td>\n",
       "      <td>-0.009831</td>\n",
       "      <td>0.000020</td>\n",
       "    </tr>\n",
       "    <tr>\n",
       "      <th>2017-01-10</th>\n",
       "      <td>-0.001280</td>\n",
       "      <td>-0.001414</td>\n",
       "      <td>-0.001495</td>\n",
       "      <td>-0.005058</td>\n",
       "      <td>0.000020</td>\n",
       "    </tr>\n",
       "    <tr>\n",
       "      <th>2017-01-11</th>\n",
       "      <td>0.003920</td>\n",
       "      <td>0.004661</td>\n",
       "      <td>0.005239</td>\n",
       "      <td>-0.007908</td>\n",
       "      <td>0.000020</td>\n",
       "    </tr>\n",
       "    <tr>\n",
       "      <th>2017-01-12</th>\n",
       "      <td>0.018297</td>\n",
       "      <td>-0.000398</td>\n",
       "      <td>0.010093</td>\n",
       "      <td>-0.005504</td>\n",
       "      <td>0.000020</td>\n",
       "    </tr>\n",
       "    <tr>\n",
       "      <th>2017-01-13</th>\n",
       "      <td>0.004302</td>\n",
       "      <td>0.001700</td>\n",
       "      <td>-0.004914</td>\n",
       "      <td>0.009924</td>\n",
       "      <td>0.000021</td>\n",
       "    </tr>\n",
       "  </tbody>\n",
       "</table>\n",
       "</div>"
      ],
      "text/plain": [
       "                AMZN     GOOGL       MCD       NKE     _CASH\n",
       "Date                                                        \n",
       "2017-01-09  0.001168  0.002387 -0.002733 -0.009831  0.000020\n",
       "2017-01-10 -0.001280 -0.001414 -0.001495 -0.005058  0.000020\n",
       "2017-01-11  0.003920  0.004661  0.005239 -0.007908  0.000020\n",
       "2017-01-12  0.018297 -0.000398  0.010093 -0.005504  0.000020\n",
       "2017-01-13  0.004302  0.001700 -0.004914  0.009924  0.000021"
      ]
     },
     "execution_count": 6,
     "metadata": {},
     "output_type": "execute_result"
    }
   ],
   "source": [
    "tickers = ['AMZN', 'GOOGL', 'MCD', 'NKE']\n",
    "start_date='2016-01-01'\n",
    "end_date='2017-01-13'\n",
    "prices = pd.DataFrame(dict([(ticker, quandl.get('WIKI/'+ticker, \n",
    "                                    start_date=start_date, \n",
    "                                    end_date=end_date)['Adj. Close'])\n",
    "                for ticker in tickers]))\n",
    "\n",
    "returns=prices.pct_change()\n",
    "returns[[\"_CASH\"]]=quandl.get('FRED/DTB3', start_date=start_date, end_date=end_date)/(250*100)\n",
    "returns = returns.fillna(method='ffill').iloc[1:]\n",
    "\n",
    "returns.tail()"
   ]
  },
  {
   "cell_type": "code",
   "execution_count": 7,
   "metadata": {},
   "outputs": [
    {
     "data": {
      "text/html": [
       "<div>\n",
       "<style scoped>\n",
       "    .dataframe tbody tr th:only-of-type {\n",
       "        vertical-align: middle;\n",
       "    }\n",
       "\n",
       "    .dataframe tbody tr th {\n",
       "        vertical-align: top;\n",
       "    }\n",
       "\n",
       "    .dataframe thead th {\n",
       "        text-align: right;\n",
       "    }\n",
       "</style>\n",
       "<table border=\"1\" class=\"dataframe\">\n",
       "  <thead>\n",
       "    <tr style=\"text-align: right;\">\n",
       "      <th></th>\n",
       "      <th>AMZN</th>\n",
       "      <th>GOOGL</th>\n",
       "      <th>MCD</th>\n",
       "      <th>NKE</th>\n",
       "      <th>_CASH</th>\n",
       "    </tr>\n",
       "    <tr>\n",
       "      <th>Date</th>\n",
       "      <th></th>\n",
       "      <th></th>\n",
       "      <th></th>\n",
       "      <th></th>\n",
       "      <th></th>\n",
       "    </tr>\n",
       "  </thead>\n",
       "  <tbody>\n",
       "    <tr>\n",
       "      <th>2017-01-09</th>\n",
       "      <td>0.001182</td>\n",
       "      <td>0.000553</td>\n",
       "      <td>0.000304</td>\n",
       "      <td>-0.000252</td>\n",
       "      <td>0.000013</td>\n",
       "    </tr>\n",
       "    <tr>\n",
       "      <th>2017-01-10</th>\n",
       "      <td>0.001185</td>\n",
       "      <td>0.000496</td>\n",
       "      <td>0.000267</td>\n",
       "      <td>-0.000317</td>\n",
       "      <td>0.000013</td>\n",
       "    </tr>\n",
       "    <tr>\n",
       "      <th>2017-01-11</th>\n",
       "      <td>0.001414</td>\n",
       "      <td>0.000628</td>\n",
       "      <td>0.000340</td>\n",
       "      <td>-0.000260</td>\n",
       "      <td>0.000013</td>\n",
       "    </tr>\n",
       "    <tr>\n",
       "      <th>2017-01-12</th>\n",
       "      <td>0.001352</td>\n",
       "      <td>0.000581</td>\n",
       "      <td>0.000309</td>\n",
       "      <td>-0.000273</td>\n",
       "      <td>0.000013</td>\n",
       "    </tr>\n",
       "    <tr>\n",
       "      <th>2017-01-13</th>\n",
       "      <td>0.001580</td>\n",
       "      <td>0.000694</td>\n",
       "      <td>0.000399</td>\n",
       "      <td>-0.000230</td>\n",
       "      <td>0.000013</td>\n",
       "    </tr>\n",
       "  </tbody>\n",
       "</table>\n",
       "</div>"
      ],
      "text/plain": [
       "                AMZN     GOOGL       MCD       NKE     _CASH\n",
       "Date                                                        \n",
       "2017-01-09  0.001182  0.000553  0.000304 -0.000252  0.000013\n",
       "2017-01-10  0.001185  0.000496  0.000267 -0.000317  0.000013\n",
       "2017-01-11  0.001414  0.000628  0.000340 -0.000260  0.000013\n",
       "2017-01-12  0.001352  0.000581  0.000309 -0.000273  0.000013\n",
       "2017-01-13  0.001580  0.000694  0.000399 -0.000230  0.000013"
      ]
     },
     "execution_count": 7,
     "metadata": {},
     "output_type": "execute_result"
    }
   ],
   "source": [
    "rets = returns.rolling(window=250, min_periods=250).mean().shift(1).dropna()\n",
    "sigmas = returns.rolling(window=250, min_periods=250).cov().unstack().shift(1).stack()\n",
    "\n",
    "rets.tail()"
   ]
  },
  {
   "cell_type": "code",
   "execution_count": 8,
   "metadata": {},
   "outputs": [],
   "source": [
    "cash_ticker = \"_CASH\""
   ]
  },
  {
   "cell_type": "code",
   "execution_count": 9,
   "metadata": {},
   "outputs": [],
   "source": [
    "price_sigma = rets.copy()\n",
    "price_sigma[:] = 0."
   ]
  },
  {
   "cell_type": "code",
   "execution_count": 10,
   "metadata": {},
   "outputs": [],
   "source": [
    "volumes = pd.DataFrame(dict([(ticker, quandl.get('WIKI/'+ticker, \n",
    "                                    start_date=start_date, \n",
    "                                    end_date=end_date)['Adj. Volume'])\n",
    "                for ticker in tickers]))\n",
    "volumes[cash_ticker] = np.finfo(np.float).max"
   ]
  },
  {
   "cell_type": "code",
   "execution_count": 11,
   "metadata": {},
   "outputs": [],
   "source": [
    "tcost_model=helium.TransactionCost(gamma = 1., \n",
    "                                   half_spread=10E-4,\n",
    "                                   nonlin_coef = 0.,  #1.,\n",
    "                                   sigmas = price_sigma, \n",
    "                                   nonlin_power = 1.5,\n",
    "                                   volumes = volumes,\n",
    "                                   asym_coef = 0.)"
   ]
  },
  {
   "cell_type": "code",
   "execution_count": 12,
   "metadata": {},
   "outputs": [],
   "source": [
    "borrow_costs = rets.copy()\n",
    "borrow_costs[:] = 1E-4\n",
    "borrow_costs[cash_ticker] = 0.\n",
    "\n",
    "dividends = rets.copy()\n",
    "dividends[:] = 0.\n",
    "\n",
    "\n",
    "hcost_model=helium.HoldingCost(gamma = 1., borrow_costs=borrow_costs, dividends=dividends)"
   ]
  },
  {
   "cell_type": "code",
   "execution_count": 13,
   "metadata": {},
   "outputs": [],
   "source": [
    "risk_model = helium.BasicRiskCost(5.0, sigmas)"
   ]
  },
  {
   "cell_type": "code",
   "execution_count": 14,
   "metadata": {},
   "outputs": [],
   "source": [
    "leverage_limit = helium.LeverageLimitConstraint(3.)"
   ]
  },
  {
   "cell_type": "code",
   "execution_count": 15,
   "metadata": {},
   "outputs": [
    {
     "data": {
      "text/plain": [
       "AMZN         0.0\n",
       "GOOGL        0.0\n",
       "MCD          0.0\n",
       "NKE          0.0\n",
       "_CASH    10000.0\n",
       "dtype: float64"
      ]
     },
     "execution_count": 15,
     "metadata": {},
     "output_type": "execute_result"
    }
   ],
   "source": [
    "holding_init = pd.Series(index=rets.columns, data=0.)\n",
    "holding_init[cash_ticker] = 10000.\n",
    "holding_init"
   ]
  },
  {
   "cell_type": "code",
   "execution_count": 16,
   "metadata": {},
   "outputs": [],
   "source": [
    "deltas = rets.copy()\n",
    "deltas[:]  = 0."
   ]
  },
  {
   "cell_type": "code",
   "execution_count": 17,
   "metadata": {},
   "outputs": [],
   "source": [
    "r = helium.DefaultRet(rets=rets, deltas = deltas, gamma_decay=None)"
   ]
  },
  {
   "cell_type": "code",
   "execution_count": 18,
   "metadata": {},
   "outputs": [],
   "source": [
    "spo_policy = helium.SinglePeriodOpt(rets=r,\n",
    "                                   costs=[risk_model, hcost_model, tcost_model],\n",
    "                                   constraints=[leverage_limit]\n",
    "                                   )"
   ]
  },
  {
   "cell_type": "code",
   "execution_count": 19,
   "metadata": {},
   "outputs": [
    {
     "data": {
      "text/plain": [
       "AMZN     1793.597144\n",
       "GOOGL       0.000012\n",
       "MCD         0.000008\n",
       "NKE        -0.000005\n",
       "_CASH   -1793.597160\n",
       "dtype: float64"
      ]
     },
     "execution_count": 19,
     "metadata": {},
     "output_type": "execute_result"
    }
   ],
   "source": [
    "shares_to_trade=spo_policy.get_trades(h=holding_init, t=end_date)\n",
    "shares_to_trade"
   ]
  },
  {
   "cell_type": "code",
   "execution_count": 20,
   "metadata": {},
   "outputs": [
    {
     "data": {
      "text/plain": [
       "AMZN     1793.597144\n",
       "GOOGL       0.000012\n",
       "MCD         0.000008\n",
       "NKE        -0.000005\n",
       "_CASH   -1793.597160\n",
       "dtype: float64"
      ]
     },
     "execution_count": 20,
     "metadata": {},
     "output_type": "execute_result"
    }
   ],
   "source": [
    "shares_to_trade"
   ]
  },
  {
   "cell_type": "code",
   "execution_count": 21,
   "metadata": {},
   "outputs": [
    {
     "data": {
      "text/plain": [
       "AMZN     2.0\n",
       "GOOGL    0.0\n",
       "MCD      0.0\n",
       "NKE     -0.0\n",
       "_CASH    NaN\n",
       "dtype: float64"
      ]
     },
     "execution_count": 21,
     "metadata": {},
     "output_type": "execute_result"
    }
   ],
   "source": [
    "np.round(shares_to_trade/prices.loc[end_date])"
   ]
  }
 ],
 "metadata": {
  "kernelspec": {
   "display_name": "Python 3",
   "language": "python",
   "name": "python3"
  },
  "language_info": {
   "codemirror_mode": {
    "name": "ipython",
    "version": 3
   },
   "file_extension": ".py",
   "mimetype": "text/x-python",
   "name": "python",
   "nbconvert_exporter": "python",
   "pygments_lexer": "ipython3",
   "version": "3.6.5"
  }
 },
 "nbformat": 4,
 "nbformat_minor": 2
}
