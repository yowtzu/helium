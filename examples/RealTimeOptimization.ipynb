{
 "cells": [
  {
   "cell_type": "code",
   "execution_count": 1,
   "metadata": {},
   "outputs": [],
   "source": [
    "%load_ext autoreload\n",
    "%autoreload 2\n",
    "%matplotlib inline"
   ]
  },
  {
   "cell_type": "code",
   "execution_count": 2,
   "metadata": {},
   "outputs": [],
   "source": [
    "import os\n",
    "import sys\n",
    "import pandas as pd\n",
    "import numpy as np\n",
    "import quandl\n",
    "import cvxpy as cvx"
   ]
  },
  {
   "cell_type": "code",
   "execution_count": 3,
   "metadata": {},
   "outputs": [],
   "source": [
    "sys.path.insert(0, os.path.abspath('..'))\n",
    "import helium"
   ]
  },
  {
   "cell_type": "code",
   "execution_count": 4,
   "metadata": {},
   "outputs": [],
   "source": [
    "%matplotlib inline"
   ]
  },
  {
   "cell_type": "code",
   "execution_count": 5,
   "metadata": {},
   "outputs": [],
   "source": [
    "quandl.ApiConfig.api_key = '8wnB7EcvJm1xEvJjzWBR'"
   ]
  },
  {
   "cell_type": "code",
   "execution_count": 6,
   "metadata": {},
   "outputs": [
    {
     "data": {
      "text/html": [
       "<div>\n",
       "<style scoped>\n",
       "    .dataframe tbody tr th:only-of-type {\n",
       "        vertical-align: middle;\n",
       "    }\n",
       "\n",
       "    .dataframe tbody tr th {\n",
       "        vertical-align: top;\n",
       "    }\n",
       "\n",
       "    .dataframe thead th {\n",
       "        text-align: right;\n",
       "    }\n",
       "</style>\n",
       "<table border=\"1\" class=\"dataframe\">\n",
       "  <thead>\n",
       "    <tr style=\"text-align: right;\">\n",
       "      <th></th>\n",
       "      <th>AMZN</th>\n",
       "      <th>GOOGL</th>\n",
       "      <th>MCD</th>\n",
       "      <th>NKE</th>\n",
       "      <th>_CASH</th>\n",
       "    </tr>\n",
       "    <tr>\n",
       "      <th>Date</th>\n",
       "      <th></th>\n",
       "      <th></th>\n",
       "      <th></th>\n",
       "      <th></th>\n",
       "      <th></th>\n",
       "    </tr>\n",
       "  </thead>\n",
       "  <tbody>\n",
       "    <tr>\n",
       "      <th>2017-03-07</th>\n",
       "      <td>-0.000697</td>\n",
       "      <td>0.004579</td>\n",
       "      <td>0.000312</td>\n",
       "      <td>-0.003875</td>\n",
       "      <td>0.000030</td>\n",
       "    </tr>\n",
       "    <tr>\n",
       "      <th>2017-03-08</th>\n",
       "      <td>0.005295</td>\n",
       "      <td>0.002925</td>\n",
       "      <td>0.000156</td>\n",
       "      <td>-0.000707</td>\n",
       "      <td>0.000029</td>\n",
       "    </tr>\n",
       "    <tr>\n",
       "      <th>2017-03-09</th>\n",
       "      <td>0.002939</td>\n",
       "      <td>0.004920</td>\n",
       "      <td>0.000390</td>\n",
       "      <td>-0.002654</td>\n",
       "      <td>0.000029</td>\n",
       "    </tr>\n",
       "    <tr>\n",
       "      <th>2017-03-10</th>\n",
       "      <td>-0.000633</td>\n",
       "      <td>0.004156</td>\n",
       "      <td>-0.001249</td>\n",
       "      <td>0.001242</td>\n",
       "      <td>0.000029</td>\n",
       "    </tr>\n",
       "    <tr>\n",
       "      <th>2017-03-13</th>\n",
       "      <td>0.002499</td>\n",
       "      <td>0.003686</td>\n",
       "      <td>-0.002891</td>\n",
       "      <td>0.004253</td>\n",
       "      <td>0.000031</td>\n",
       "    </tr>\n",
       "  </tbody>\n",
       "</table>\n",
       "</div>"
      ],
      "text/plain": [
       "                AMZN     GOOGL       MCD       NKE     _CASH\n",
       "Date                                                        \n",
       "2017-03-07 -0.000697  0.004579  0.000312 -0.003875  0.000030\n",
       "2017-03-08  0.005295  0.002925  0.000156 -0.000707  0.000029\n",
       "2017-03-09  0.002939  0.004920  0.000390 -0.002654  0.000029\n",
       "2017-03-10 -0.000633  0.004156 -0.001249  0.001242  0.000029\n",
       "2017-03-13  0.002499  0.003686 -0.002891  0.004253  0.000031"
      ]
     },
     "execution_count": 6,
     "metadata": {},
     "output_type": "execute_result"
    }
   ],
   "source": [
    "tickers = ['AMZN', 'GOOGL', 'MCD', 'NKE']\n",
    "start_date='2016-01-01'\n",
    "end_date='2017-03-13'\n",
    "prices = pd.DataFrame(dict([(ticker, quandl.get('WIKI/'+ticker, \n",
    "                                    start_date=start_date, \n",
    "                                    end_date=end_date)['Adj. Close'])\n",
    "                for ticker in tickers]))\n",
    "\n",
    "returns=prices.pct_change()\n",
    "returns[[\"_CASH\"]]=quandl.get('FRED/DTB3', start_date=start_date, end_date=end_date)/(250*100)\n",
    "returns = returns.fillna(method='ffill').iloc[1:]\n",
    "\n",
    "returns.tail()"
   ]
  },
  {
   "cell_type": "code",
   "execution_count": 7,
   "metadata": {},
   "outputs": [
    {
     "data": {
      "text/html": [
       "<div>\n",
       "<style scoped>\n",
       "    .dataframe tbody tr th:only-of-type {\n",
       "        vertical-align: middle;\n",
       "    }\n",
       "\n",
       "    .dataframe tbody tr th {\n",
       "        vertical-align: top;\n",
       "    }\n",
       "\n",
       "    .dataframe thead th {\n",
       "        text-align: right;\n",
       "    }\n",
       "</style>\n",
       "<table border=\"1\" class=\"dataframe\">\n",
       "  <thead>\n",
       "    <tr style=\"text-align: right;\">\n",
       "      <th></th>\n",
       "      <th>AMZN</th>\n",
       "      <th>GOOGL</th>\n",
       "      <th>MCD</th>\n",
       "      <th>NKE</th>\n",
       "      <th>_CASH</th>\n",
       "    </tr>\n",
       "    <tr>\n",
       "      <th>Date</th>\n",
       "      <th></th>\n",
       "      <th></th>\n",
       "      <th></th>\n",
       "      <th></th>\n",
       "      <th></th>\n",
       "    </tr>\n",
       "  </thead>\n",
       "  <tbody>\n",
       "    <tr>\n",
       "      <th>2017-03-07</th>\n",
       "      <td>0.001749</td>\n",
       "      <td>0.000743</td>\n",
       "      <td>0.000468</td>\n",
       "      <td>-8.301724e-05</td>\n",
       "      <td>0.000014</td>\n",
       "    </tr>\n",
       "    <tr>\n",
       "      <th>2017-03-08</th>\n",
       "      <td>0.001752</td>\n",
       "      <td>0.000695</td>\n",
       "      <td>0.000428</td>\n",
       "      <td>4.617185e-07</td>\n",
       "      <td>0.000014</td>\n",
       "    </tr>\n",
       "    <tr>\n",
       "      <th>2017-03-09</th>\n",
       "      <td>0.001777</td>\n",
       "      <td>0.000669</td>\n",
       "      <td>0.000417</td>\n",
       "      <td>-4.008408e-05</td>\n",
       "      <td>0.000014</td>\n",
       "    </tr>\n",
       "    <tr>\n",
       "      <th>2017-03-10</th>\n",
       "      <td>0.001712</td>\n",
       "      <td>0.000619</td>\n",
       "      <td>0.000366</td>\n",
       "      <td>-1.322234e-04</td>\n",
       "      <td>0.000015</td>\n",
       "    </tr>\n",
       "    <tr>\n",
       "      <th>2017-03-13</th>\n",
       "      <td>0.001683</td>\n",
       "      <td>0.000607</td>\n",
       "      <td>0.000317</td>\n",
       "      <td>-1.758572e-04</td>\n",
       "      <td>0.000015</td>\n",
       "    </tr>\n",
       "  </tbody>\n",
       "</table>\n",
       "</div>"
      ],
      "text/plain": [
       "                AMZN     GOOGL       MCD           NKE     _CASH\n",
       "Date                                                            \n",
       "2017-03-07  0.001749  0.000743  0.000468 -8.301724e-05  0.000014\n",
       "2017-03-08  0.001752  0.000695  0.000428  4.617185e-07  0.000014\n",
       "2017-03-09  0.001777  0.000669  0.000417 -4.008408e-05  0.000014\n",
       "2017-03-10  0.001712  0.000619  0.000366 -1.322234e-04  0.000015\n",
       "2017-03-13  0.001683  0.000607  0.000317 -1.758572e-04  0.000015"
      ]
     },
     "execution_count": 7,
     "metadata": {},
     "output_type": "execute_result"
    }
   ],
   "source": [
    "rets = returns.rolling(window=250, min_periods=250).mean().shift(1).dropna()\n",
    "sigmas = returns.rolling(window=250, min_periods=250).cov().unstack().shift(1).stack()\n",
    "\n",
    "rets.tail()"
   ]
  },
  {
   "cell_type": "code",
   "execution_count": 8,
   "metadata": {},
   "outputs": [],
   "source": [
    "r_est = {}\n",
    "d_est = {}\n",
    "for date, row in rets.iterrows():\n",
    "    r_est[date] = rets.loc[[date]].copy()\n",
    "    d = rets.loc[[date]].copy()\n",
    "    d[:] = 0.\n",
    "    d_est[date] = d"
   ]
  },
  {
   "cell_type": "code",
   "execution_count": 9,
   "metadata": {},
   "outputs": [],
   "source": [
    "cash_ticker = \"_CASH\""
   ]
  },
  {
   "cell_type": "code",
   "execution_count": 10,
   "metadata": {},
   "outputs": [],
   "source": [
    "price_sigma = rets.copy()\n",
    "price_sigma[:] = 0."
   ]
  },
  {
   "cell_type": "code",
   "execution_count": 11,
   "metadata": {},
   "outputs": [],
   "source": [
    "volumes = pd.DataFrame(dict([(ticker, quandl.get('WIKI/'+ticker, \n",
    "                                    start_date=start_date, \n",
    "                                    end_date=end_date)['Adj. Volume'])\n",
    "                for ticker in tickers]))\n",
    "volumes[cash_ticker] = np.finfo(np.float).max"
   ]
  },
  {
   "cell_type": "code",
   "execution_count": 12,
   "metadata": {},
   "outputs": [],
   "source": [
    "tcost_model=helium.TransactionCost(gamma = 1., \n",
    "                                   half_spread=10E-4,\n",
    "                                   nonlin_coef = 0.,  #1.,\n",
    "                                   sigmas = price_sigma, \n",
    "                                   nonlin_power = 1.5,\n",
    "                                   volumes = volumes,\n",
    "                                   asym_coef = 0.)"
   ]
  },
  {
   "cell_type": "code",
   "execution_count": 13,
   "metadata": {},
   "outputs": [],
   "source": [
    "borrow_costs = rets.copy()\n",
    "borrow_costs[:] = 1E-4\n",
    "borrow_costs[cash_ticker] = 0.\n",
    "\n",
    "dividends = rets.copy()\n",
    "dividends[:] = 0.\n",
    "\n",
    "\n",
    "hcost_model=helium.HoldingCost(gamma = 1., borrow_costs=borrow_costs, dividends=dividends)"
   ]
  },
  {
   "cell_type": "code",
   "execution_count": 14,
   "metadata": {},
   "outputs": [],
   "source": [
    "risk_model = helium.BasicRiskCost(5.0, sigmas)"
   ]
  },
  {
   "cell_type": "code",
   "execution_count": 15,
   "metadata": {},
   "outputs": [],
   "source": [
    "leverage_limit = helium.LeverageLimitConstraint(3.)"
   ]
  },
  {
   "cell_type": "code",
   "execution_count": 16,
   "metadata": {},
   "outputs": [
    {
     "data": {
      "text/plain": [
       "AMZN         0.0\n",
       "GOOGL        0.0\n",
       "MCD          0.0\n",
       "NKE          0.0\n",
       "_CASH    10000.0\n",
       "dtype: float64"
      ]
     },
     "execution_count": 16,
     "metadata": {},
     "output_type": "execute_result"
    }
   ],
   "source": [
    "holding_init = pd.Series(index=rets.columns, data=0.)\n",
    "holding_init[cash_ticker] = 10000.\n",
    "holding_init"
   ]
  },
  {
   "cell_type": "code",
   "execution_count": 17,
   "metadata": {},
   "outputs": [],
   "source": [
    "r = helium.DefaultReturns(returns=r_est, deltas = d_est, gamma_decay=None)"
   ]
  },
  {
   "cell_type": "code",
   "execution_count": 18,
   "metadata": {},
   "outputs": [],
   "source": [
    "spo_policy = helium.SinglePeriodOpt(returns=r,\n",
    "                                   costs=[risk_model, hcost_model, tcost_model],\n",
    "                                   constraints=[leverage_limit]\n",
    "                                   )"
   ]
  },
  {
   "cell_type": "code",
   "execution_count": 19,
   "metadata": {},
   "outputs": [
    {
     "data": {
      "text/plain": [
       "AMZN     3452.933557\n",
       "GOOGL       0.000037\n",
       "MCD         0.000034\n",
       "NKE         0.000019\n",
       "_CASH   -3452.933647\n",
       "dtype: float64"
      ]
     },
     "execution_count": 19,
     "metadata": {},
     "output_type": "execute_result"
    }
   ],
   "source": [
    "shares_to_trade=spo_policy.get_trades(h=holding_init, t=pd.to_datetime(end_date))\n",
    "shares_to_trade"
   ]
  },
  {
   "cell_type": "code",
   "execution_count": 20,
   "metadata": {},
   "outputs": [
    {
     "data": {
      "text/plain": [
       "AMZN     4.0\n",
       "GOOGL    0.0\n",
       "MCD      0.0\n",
       "NKE      0.0\n",
       "_CASH    NaN\n",
       "dtype: float64"
      ]
     },
     "execution_count": 20,
     "metadata": {},
     "output_type": "execute_result"
    }
   ],
   "source": [
    "np.round(shares_to_trade/prices.loc[end_date])"
   ]
  }
 ],
 "metadata": {
  "kernelspec": {
   "display_name": "Python 3",
   "language": "python",
   "name": "python3"
  },
  "language_info": {
   "codemirror_mode": {
    "name": "ipython",
    "version": 3
   },
   "file_extension": ".py",
   "mimetype": "text/x-python",
   "name": "python",
   "nbconvert_exporter": "python",
   "pygments_lexer": "ipython3",
   "version": "3.6.3"
  }
 },
 "nbformat": 4,
 "nbformat_minor": 2
}
