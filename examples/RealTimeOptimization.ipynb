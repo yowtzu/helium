{
 "cells": [
  {
   "cell_type": "code",
   "execution_count": 1,
   "metadata": {
    "collapsed": true
   },
   "outputs": [],
   "source": [
    "%load_ext autoreload\n",
    "%autoreload 2\n",
    "%matplotlib inline"
   ]
  },
  {
   "cell_type": "code",
   "execution_count": 2,
   "metadata": {
    "collapsed": true
   },
   "outputs": [],
   "source": [
    "import os\n",
    "import sys\n",
    "import pandas as pd\n",
    "import numpy as np\n",
    "import quandl\n",
    "import cvxpy as cvx"
   ]
  },
  {
   "cell_type": "code",
   "execution_count": 3,
   "metadata": {
    "collapsed": true
   },
   "outputs": [],
   "source": [
    "sys.path.insert(0, os.path.abspath('..'))\n",
    "import helium"
   ]
  },
  {
   "cell_type": "code",
   "execution_count": 4,
   "metadata": {
    "collapsed": true
   },
   "outputs": [],
   "source": [
    "%matplotlib inline"
   ]
  },
  {
   "cell_type": "code",
   "execution_count": 5,
   "metadata": {
    "collapsed": true
   },
   "outputs": [],
   "source": [
    "quandl.ApiConfig.api_key = '8wnB7EcvJm1xEvJjzWBR'"
   ]
  },
  {
   "cell_type": "code",
   "execution_count": 6,
   "metadata": {},
   "outputs": [
    {
     "data": {
      "text/html": [
       "<div>\n",
       "<style scoped>\n",
       "    .dataframe tbody tr th:only-of-type {\n",
       "        vertical-align: middle;\n",
       "    }\n",
       "\n",
       "    .dataframe tbody tr th {\n",
       "        vertical-align: top;\n",
       "    }\n",
       "\n",
       "    .dataframe thead th {\n",
       "        text-align: right;\n",
       "    }\n",
       "</style>\n",
       "<table border=\"1\" class=\"dataframe\">\n",
       "  <thead>\n",
       "    <tr style=\"text-align: right;\">\n",
       "      <th></th>\n",
       "      <th>AMZN</th>\n",
       "      <th>GOOGL</th>\n",
       "      <th>MCD</th>\n",
       "      <th>NKE</th>\n",
       "      <th>_CASH</th>\n",
       "    </tr>\n",
       "    <tr>\n",
       "      <th>Date</th>\n",
       "      <th></th>\n",
       "      <th></th>\n",
       "      <th></th>\n",
       "      <th></th>\n",
       "      <th></th>\n",
       "    </tr>\n",
       "  </thead>\n",
       "  <tbody>\n",
       "    <tr>\n",
       "      <th>2018-01-26</th>\n",
       "      <td>0.017490</td>\n",
       "      <td>0.004585</td>\n",
       "      <td>0.015371</td>\n",
       "      <td>0.004874</td>\n",
       "      <td>0.000056</td>\n",
       "    </tr>\n",
       "    <tr>\n",
       "      <th>2018-01-29</th>\n",
       "      <td>0.011148</td>\n",
       "      <td>-0.000909</td>\n",
       "      <td>-0.003308</td>\n",
       "      <td>-0.006761</td>\n",
       "      <td>0.000057</td>\n",
       "    </tr>\n",
       "    <tr>\n",
       "      <th>2018-01-30</th>\n",
       "      <td>0.014206</td>\n",
       "      <td>-0.007678</td>\n",
       "      <td>-0.029758</td>\n",
       "      <td>-0.003699</td>\n",
       "      <td>0.000057</td>\n",
       "    </tr>\n",
       "    <tr>\n",
       "      <th>2018-01-31</th>\n",
       "      <td>0.009619</td>\n",
       "      <td>0.004119</td>\n",
       "      <td>-0.007769</td>\n",
       "      <td>0.013218</td>\n",
       "      <td>0.000058</td>\n",
       "    </tr>\n",
       "    <tr>\n",
       "      <th>2018-02-01</th>\n",
       "      <td>-0.042469</td>\n",
       "      <td>-0.000533</td>\n",
       "      <td>0.004441</td>\n",
       "      <td>-0.008355</td>\n",
       "      <td>0.000058</td>\n",
       "    </tr>\n",
       "  </tbody>\n",
       "</table>\n",
       "</div>"
      ],
      "text/plain": [
       "                AMZN     GOOGL       MCD       NKE     _CASH\n",
       "Date                                                        \n",
       "2018-01-26  0.017490  0.004585  0.015371  0.004874  0.000056\n",
       "2018-01-29  0.011148 -0.000909 -0.003308 -0.006761  0.000057\n",
       "2018-01-30  0.014206 -0.007678 -0.029758 -0.003699  0.000057\n",
       "2018-01-31  0.009619  0.004119 -0.007769  0.013218  0.000058\n",
       "2018-02-01 -0.042469 -0.000533  0.004441 -0.008355  0.000058"
      ]
     },
     "execution_count": 6,
     "metadata": {},
     "output_type": "execute_result"
    }
   ],
   "source": [
    "tickers = ['AMZN', 'GOOGL', 'MCD', 'NKE']\n",
    "start_date='2016-01-01'\n",
    "end_date='2018-02-01'\n",
    "prices = pd.DataFrame(dict([(ticker, quandl.get('WIKI/'+ticker, \n",
    "                                    start_date=start_date, \n",
    "                                    end_date=end_date)['Adj. Close'])\n",
    "                for ticker in tickers]))\n",
    "\n",
    "returns=prices.pct_change()\n",
    "returns[[\"_CASH\"]]=quandl.get('FRED/DTB3', start_date=start_date, end_date=end_date)/(250*100)\n",
    "returns = returns.fillna(method='ffill').iloc[1:]\n",
    "\n",
    "returns.tail()"
   ]
  },
  {
   "cell_type": "code",
   "execution_count": 7,
   "metadata": {},
   "outputs": [
    {
     "data": {
      "text/html": [
       "<div>\n",
       "<style scoped>\n",
       "    .dataframe tbody tr th:only-of-type {\n",
       "        vertical-align: middle;\n",
       "    }\n",
       "\n",
       "    .dataframe tbody tr th {\n",
       "        vertical-align: top;\n",
       "    }\n",
       "\n",
       "    .dataframe thead th {\n",
       "        text-align: right;\n",
       "    }\n",
       "</style>\n",
       "<table border=\"1\" class=\"dataframe\">\n",
       "  <thead>\n",
       "    <tr style=\"text-align: right;\">\n",
       "      <th></th>\n",
       "      <th>AMZN</th>\n",
       "      <th>GOOGL</th>\n",
       "      <th>MCD</th>\n",
       "      <th>NKE</th>\n",
       "      <th>_CASH</th>\n",
       "    </tr>\n",
       "    <tr>\n",
       "      <th>Date</th>\n",
       "      <th></th>\n",
       "      <th></th>\n",
       "      <th></th>\n",
       "      <th></th>\n",
       "      <th></th>\n",
       "    </tr>\n",
       "  </thead>\n",
       "  <tbody>\n",
       "    <tr>\n",
       "      <th>2018-01-26</th>\n",
       "      <td>0.002075</td>\n",
       "      <td>0.001334</td>\n",
       "      <td>0.001574</td>\n",
       "      <td>0.001069</td>\n",
       "      <td>0.00004</td>\n",
       "    </tr>\n",
       "    <tr>\n",
       "      <th>2018-01-29</th>\n",
       "      <td>0.002161</td>\n",
       "      <td>0.001409</td>\n",
       "      <td>0.001603</td>\n",
       "      <td>0.001123</td>\n",
       "      <td>0.00004</td>\n",
       "    </tr>\n",
       "    <tr>\n",
       "      <th>2018-01-30</th>\n",
       "      <td>0.002231</td>\n",
       "      <td>0.001505</td>\n",
       "      <td>0.001584</td>\n",
       "      <td>0.001104</td>\n",
       "      <td>0.00004</td>\n",
       "    </tr>\n",
       "    <tr>\n",
       "      <th>2018-01-31</th>\n",
       "      <td>0.002321</td>\n",
       "      <td>0.001492</td>\n",
       "      <td>0.001480</td>\n",
       "      <td>0.001103</td>\n",
       "      <td>0.00004</td>\n",
       "    </tr>\n",
       "    <tr>\n",
       "      <th>2018-02-01</th>\n",
       "      <td>0.002317</td>\n",
       "      <td>0.001533</td>\n",
       "      <td>0.001454</td>\n",
       "      <td>0.001146</td>\n",
       "      <td>0.00004</td>\n",
       "    </tr>\n",
       "  </tbody>\n",
       "</table>\n",
       "</div>"
      ],
      "text/plain": [
       "                AMZN     GOOGL       MCD       NKE    _CASH\n",
       "Date                                                       \n",
       "2018-01-26  0.002075  0.001334  0.001574  0.001069  0.00004\n",
       "2018-01-29  0.002161  0.001409  0.001603  0.001123  0.00004\n",
       "2018-01-30  0.002231  0.001505  0.001584  0.001104  0.00004\n",
       "2018-01-31  0.002321  0.001492  0.001480  0.001103  0.00004\n",
       "2018-02-01  0.002317  0.001533  0.001454  0.001146  0.00004"
      ]
     },
     "execution_count": 7,
     "metadata": {},
     "output_type": "execute_result"
    }
   ],
   "source": [
    "rets = returns.rolling(window=250, min_periods=250).mean().shift(1).dropna()\n",
    "sigmas = returns.rolling(window=250, min_periods=250).cov().unstack().shift(1).stack()\n",
    "\n",
    "rets.tail()"
   ]
  },
  {
   "cell_type": "code",
   "execution_count": 8,
   "metadata": {
    "collapsed": true
   },
   "outputs": [],
   "source": [
    "cash_ticker = \"_CASH\""
   ]
  },
  {
   "cell_type": "code",
   "execution_count": 9,
   "metadata": {
    "collapsed": true
   },
   "outputs": [],
   "source": [
    "price_sigma = rets.copy()\n",
    "price_sigma[:] = 0."
   ]
  },
  {
   "cell_type": "code",
   "execution_count": 10,
   "metadata": {
    "collapsed": true
   },
   "outputs": [],
   "source": [
    "volumes = pd.DataFrame(dict([(ticker, quandl.get('WIKI/'+ticker, \n",
    "                                    start_date=start_date, \n",
    "                                    end_date=end_date)['Adj. Volume'])\n",
    "                for ticker in tickers]))\n",
    "volumes[cash_ticker] = np.finfo(np.float).max"
   ]
  },
  {
   "cell_type": "code",
   "execution_count": 11,
   "metadata": {
    "collapsed": true
   },
   "outputs": [],
   "source": [
    "tcost_model=helium.TransactionCost(gamma = 1., \n",
    "                                   half_spread=10E-4,\n",
    "                                   nonlin_coef = 0.,  #1.,\n",
    "                                   sigmas = price_sigma, \n",
    "                                   nonlin_power = 1.5,\n",
    "                                   volumes = volumes,\n",
    "                                   asym_coef = 0.)"
   ]
  },
  {
   "cell_type": "code",
   "execution_count": 12,
   "metadata": {
    "collapsed": true
   },
   "outputs": [],
   "source": [
    "borrow_costs = rets.copy()\n",
    "borrow_costs[:] = 1E-4\n",
    "borrow_costs[\"_CASH\"] = 0.\n",
    "\n",
    "dividends = rets.copy()\n",
    "dividends[:] = 0.\n",
    "\n",
    "\n",
    "hcost_model=helium.HoldingCost(gamma = 1., borrow_costs=borrow_costs, dividends=dividends)"
   ]
  },
  {
   "cell_type": "code",
   "execution_count": 13,
   "metadata": {
    "collapsed": true
   },
   "outputs": [],
   "source": [
    "risk_model = helium.BasicRiskCost(5.0, sigmas)"
   ]
  },
  {
   "cell_type": "code",
   "execution_count": 14,
   "metadata": {
    "collapsed": true
   },
   "outputs": [],
   "source": [
    "leverage_limit = helium.LeverageLimitConstraint(3.)"
   ]
  },
  {
   "cell_type": "code",
   "execution_count": 15,
   "metadata": {},
   "outputs": [
    {
     "data": {
      "text/plain": [
       "AMZN         0.0\n",
       "GOOGL        0.0\n",
       "MCD          0.0\n",
       "NKE          0.0\n",
       "_CASH    10000.0\n",
       "dtype: float64"
      ]
     },
     "execution_count": 15,
     "metadata": {},
     "output_type": "execute_result"
    }
   ],
   "source": [
    "holding_init = pd.Series(index=rets.columns, data=0.)\n",
    "holding_init[cash_ticker] = 10000.\n",
    "holding_init"
   ]
  },
  {
   "cell_type": "code",
   "execution_count": 16,
   "metadata": {
    "collapsed": true
   },
   "outputs": [],
   "source": [
    "deltas = rets.copy()\n",
    "deltas[:]  = 0."
   ]
  },
  {
   "cell_type": "code",
   "execution_count": 17,
   "metadata": {
    "collapsed": true
   },
   "outputs": [],
   "source": [
    "r = helium.DefaultRet(rets=rets, deltas = deltas, gamma_decay=None)"
   ]
  },
  {
   "cell_type": "code",
   "execution_count": 18,
   "metadata": {
    "collapsed": true
   },
   "outputs": [],
   "source": [
    "spo_policy = helium.SinglePeriodOpt(rets=r,\n",
    "                                   costs=[risk_model, hcost_model, tcost_model],\n",
    "                                   constraints=[leverage_limit]\n",
    "                                   )"
   ]
  },
  {
   "cell_type": "code",
   "execution_count": 19,
   "metadata": {},
   "outputs": [],
   "source": [
    "today = pd.datetime(2018, 2, 1)"
   ]
  },
  {
   "cell_type": "code",
   "execution_count": 20,
   "metadata": {},
   "outputs": [
    {
     "name": "stdout",
     "output_type": "stream",
     "text": [
      "******\n",
      "QQQ: AMZN         0.0\n",
      "GOOGL        0.0\n",
      "MCD          0.0\n",
      "NKE          0.0\n",
      "_CASH    10000.0\n",
      "dtype: float64\n",
      "Obj: sum_entries(mul_elemwise([[  2.31664660e-03]\n",
      " [  1.53280288e-03]\n",
      " [  1.45386101e-03]\n",
      " [  1.14645450e-03]\n",
      " [  4.03712000e-05]], [[ 0.]\n",
      " [ 0.]\n",
      " [ 0.]\n",
      " [ 0.]\n",
      " [ 1.]] + var0)) + -0 + 5.0 * 0 + 0.000234498065008 * quad_over_lin([[ -7.68551789e-08   5.68652273e-08   7.00930604e-08  -2.52375897e-08\n",
      "    6.08620095e-04]\n",
      " [  2.05649227e-01  -3.50162519e-01   4.03484090e-02   1.09466205e-02\n",
      "    5.44927821e-05]\n",
      " [  9.70433997e-02  -3.90305915e-03  -5.27894083e-01  -2.18540614e-03\n",
      "    7.33245485e-05]\n",
      " [ -6.01651846e-02  -6.47561850e-02  -6.78888172e-03  -9.16113097e-01\n",
      "   -3.87536724e-05]\n",
      " [  8.42181589e-01   5.09170788e-01   1.51437245e-01  -9.24231514e-02\n",
      "    3.75023215e-05]] * [[ 0.]\n",
      " [ 0.]\n",
      " [ 0.]\n",
      " [ 0.]\n",
      " [ 1.]] + var0, 1) + 1.0 * sum_entries(mul_elemwise([[ 0.0001]\n",
      " [ 0.0001]\n",
      " [ 0.0001]\n",
      " [ 0.0001]], --max_elemwise(-[[ 0.]\n",
      " [ 0.]\n",
      " [ 0.]\n",
      " [ 0.]\n",
      " [ 1.]] + var0[:-1, 0], -0)) + -mul_elemwise([[ 0.]\n",
      " [ 0.]\n",
      " [ 0.]\n",
      " [ 0.]], [[ 0.]\n",
      " [ 0.]\n",
      " [ 0.]\n",
      " [ 0.]\n",
      " [ 1.]] + var0[:-1, 0])) + 1.0 * sum_entries(mul_elemwise(0.001, abs(var0[:-1, 0])) + [[ 0.]\n",
      " [ 0.]\n",
      " [ 0.]\n",
      " [ 0.]].T * power(abs(var0[:-1, 0]), 3/2) * [[ 0.03577605]\n",
      " [ 0.06003038]\n",
      " [ 0.04589402]\n",
      " [ 0.04184102]] + 0.0 * var0[:-1, 0])\n",
      "constraints: [LeqConstraint(Expression(CONVEX, POSITIVE, (1, 1)), Constant(CONSTANT, POSITIVE, (1, 1))), EqConstraint(Expression(AFFINE, UNKNOWN, (1, 1)), Constant(CONSTANT, ZERO, (1, 1)))]\n",
      "AMZN     6.698884e-01\n",
      "GOOGL    2.339805e-08\n",
      "MCD      3.951501e-01\n",
      "NKE      7.261585e-02\n",
      "_CASH   -1.137654e+00\n",
      "dtype: float64\n",
      "******\n"
     ]
    },
    {
     "data": {
      "text/plain": [
       "AMZN      6698.883895\n",
       "GOOGL        0.000234\n",
       "MCD       3951.501392\n",
       "NKE        726.158527\n",
       "_CASH   -11376.544048\n",
       "dtype: float64"
      ]
     },
     "execution_count": 20,
     "metadata": {},
     "output_type": "execute_result"
    }
   ],
   "source": [
    "shares_to_trade=spo_policy.get_trades(h=holding_init, t=today)\n",
    "shares_to_trade"
   ]
  },
  {
   "cell_type": "code",
   "execution_count": 21,
   "metadata": {},
   "outputs": [
    {
     "data": {
      "text/plain": [
       "AMZN      5.0\n",
       "GOOGL     0.0\n",
       "MCD      23.0\n",
       "NKE      11.0\n",
       "_CASH     NaN\n",
       "dtype: float64"
      ]
     },
     "execution_count": 21,
     "metadata": {},
     "output_type": "execute_result"
    }
   ],
   "source": [
    "np.round(shares_to_trade/prices.loc[today])"
   ]
  }
 ],
 "metadata": {
  "kernelspec": {
   "display_name": "Python 3",
   "language": "python",
   "name": "python3"
  },
  "language_info": {
   "codemirror_mode": {
    "name": "ipython",
    "version": 3
   },
   "file_extension": ".py",
   "mimetype": "text/x-python",
   "name": "python",
   "nbconvert_exporter": "python",
   "pygments_lexer": "ipython3",
   "version": "3.6.3"
  }
 },
 "nbformat": 4,
 "nbformat_minor": 2
}
